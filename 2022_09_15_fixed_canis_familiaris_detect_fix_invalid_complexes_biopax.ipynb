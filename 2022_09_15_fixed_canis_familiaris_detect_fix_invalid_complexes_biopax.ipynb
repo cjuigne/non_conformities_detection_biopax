{
 "cells": [
  {
   "cell_type": "markdown",
   "id": "f33dc50e",
   "metadata": {},
   "source": []
  },
  {
   "cell_type": "markdown",
   "id": "5ddbd4da",
   "metadata": {},
   "source": [
    "## Table of contents:\n",
    "* [Set env](#set_env)\n",
    "* [General information on Reactome biopax file](#general_reactome)\n",
    "    * [Query 1: Number of elements for each biopax types](#query1)\n",
    "* [Complexes](#complexes)\n",
    "    * [Complexes in BioPAX specifications](#complexes_in_biopax)\n",
    "    * [Complexes in Reactome](#complex_reactome)\n",
    "        * [Summary](#summary)\n",
    "        * [Query 2: How many black-box complexes?](#query2) \n",
    "        * [Query 3: How many complexes have at least one component? ](#query3)\n",
    "        * [Query 4: How many complexes have at least one component that is a complex? ](#query4)\n",
    "        * [Query 5: How many complexes have at least one component, none of which is a complex? ](#query5)\n",
    "        * [Query 6: How many complexes have at least one component that is a blackbox complex ](#query6)\n",
    "        * [Query 7: How many complexes have at least one component that is a complex, and all its components that are complexes are actually black box complexes? ](#query7)\n",
    "        * [Query 8: How many complexes have at least one component that is a complex, but not a black-box complex? ](#query8)\n",
    "        * [Query 9: How many complexes, that are not black boxes, are a component of at least another complex? ](#query9)\n",
    "        * [Query 10: Distribution of the number of direct components by complex ](#query10)  \n",
    "        * [Query 11: Distribution of the number of complexes a complex is a component of](#query11)\n",
    "        * [Query 12:  How many interactions directly involve an invalid complex? ?](#query12)\n",
    "        * [Query 13: How many different components are involved in the invalid complexes?](#query13)\n",
    "        * [Query 14: How many interactions directly involve a component of an invalid complex?](#query14)\n",
    "        * [Query 15: How many interactions involve a complex having a direct component that is a component of an invalid complex?](#query15)\n",
    "        * [Query 16: How many interactions directly and indirectly involve these components?](#query16)\n",
    "\n",
    "    * [Identify the redundant complexes](#identify_redundant)\n",
    "        * [Query 17: How many pairs of complexes have different identifiers but the same components with the same stoichiometric coefficients and the same cellular localisation?](#query17)\n",
    "        * [How many cliques?](#cliques)\n",
    "      \n",
    "        \n",
    "        "
   ]
  },
  {
   "cell_type": "markdown",
   "id": "9f60ede5",
   "metadata": {},
   "source": [
    "### Environment <a class=\"anchor\" id=\"set_env\"></a>"
   ]
  },
  {
   "cell_type": "code",
   "execution_count": 1,
   "id": "fdb3bc6d",
   "metadata": {},
   "outputs": [],
   "source": [
    "import importlib\n",
    "import json\n",
    "import matplotlib.pyplot as plt\n",
    "import os\n",
    "import pandas\n",
    "import rdflib\n",
    "import rdflib.namespace\n",
    "import sparqldataframe\n",
    "import seaborn as sns\n",
    "from SPARQLWrapper import SPARQLWrapper, JSON\n",
    "import sys\n",
    "\n",
    "import time\n",
    "import jwt\n",
    "import pathlib\n",
    "\n",
    "import uri_utils\n",
    "import complexComponents"
   ]
  },
  {
   "cell_type": "code",
   "execution_count": 2,
   "id": "52f98f4e",
   "metadata": {},
   "outputs": [],
   "source": [
    "reactomeVersion = 81 #FIXED\n",
    "species = 49646\n",
    "# species = \n",
    "\n",
    "endpointURL = \"http://localhost:3030/REACTOME_CFAMILIARIS_FIXED/query\"\n",
    "rdfFormat = \"turtle\"\n",
    "\n",
    "workspace = \".\"\n",
    "path_results = workspace+'/results-'+str(reactomeVersion)+'-'+str(species)\n",
    "if not os.path.exists(path_results) :\n",
    "  os.makedirs(path_results)\n",
    "\n",
    "prefixesDict = uri_utils.readPrefixesFromFile(\"defaultPrefixes-release\" + \n",
    "                                              str(reactomeVersion) + \".json\")\n"
   ]
  },
  {
   "cell_type": "code",
   "execution_count": 3,
   "id": "1523ea37",
   "metadata": {},
   "outputs": [],
   "source": [
    "prefixes = \"\"\"\n",
    "PREFIX rdf: <http://www.w3.org/1999/02/22-rdf-syntax-ns#>\n",
    "PREFIX rdfs:<http://www.w3.org/2000/01/rdf-schema#>\n",
    "PREFIX owl: <http://www.w3.org/2002/07/owl#>\n",
    "PREFIX xsd: <http://www.w3.org/2001/XMLSchema#>\n",
    "\n",
    "PREFIX dc: <http://purl.org/dc/elements/1.1/>\n",
    "PREFIX dcterms: <http://purl.org/dc/terms/>\n",
    "\n",
    "PREFIX chebi: <http://purl.obolibrary.org/obo/chebi/>\n",
    "PREFIX chebidb: <http://purl.obolibrary.org/obo/CHEBI_>\n",
    "PREFIX chebirel: <http://purl.obolibrary.org/obo/CHEBI#>\n",
    "\n",
    "PREFIX up:<http://purl.uniprot.org/core/>\n",
    "PREFIX udb: <http://purl.uniprot.org/database/>\n",
    "PREFIX uniprot: <http://purl.uniprot.org/uniprot/>\n",
    "\n",
    "PREFIX bp3: <http://www.biopax.org/release/biopax-level3.owl#>\n",
    "PREFIX reactome: <http://www.reactome.org/biopax/\"\"\" + str(reactomeVersion)+\"\"\"/\"\"\"+str(species)+\"\"\"#>\n",
    "\"\"\""
   ]
  },
  {
   "cell_type": "code",
   "execution_count": 4,
   "id": "96a17bd6",
   "metadata": {},
   "outputs": [
    {
     "data": {
      "text/plain": [
       "'\\nPREFIX rdf: <http://www.w3.org/1999/02/22-rdf-syntax-ns#>\\nPREFIX rdfs:<http://www.w3.org/2000/01/rdf-schema#>\\nPREFIX owl: <http://www.w3.org/2002/07/owl#>\\nPREFIX xsd: <http://www.w3.org/2001/XMLSchema#>\\n\\nPREFIX dc: <http://purl.org/dc/elements/1.1/>\\nPREFIX dcterms: <http://purl.org/dc/terms/>\\n\\nPREFIX chebi: <http://purl.obolibrary.org/obo/chebi/>\\nPREFIX chebidb: <http://purl.obolibrary.org/obo/CHEBI_>\\nPREFIX chebirel: <http://purl.obolibrary.org/obo/CHEBI#>\\n\\nPREFIX up:<http://purl.uniprot.org/core/>\\nPREFIX udb: <http://purl.uniprot.org/database/>\\nPREFIX uniprot: <http://purl.uniprot.org/uniprot/>\\n\\nPREFIX bp3: <http://www.biopax.org/release/biopax-level3.owl#>\\nPREFIX reactome: <http://www.reactome.org/biopax/81/49646#>\\n'"
      ]
     },
     "execution_count": 4,
     "metadata": {},
     "output_type": "execute_result"
    }
   ],
   "source": [
    "prefixes"
   ]
  },
  {
   "cell_type": "markdown",
   "id": "94f508d9",
   "metadata": {},
   "source": [
    "### General information on the dataset (Reactome Biopax Homo Sapiens v79) <a class=\"anchor\" id=\"general_reactome\"></a>"
   ]
  },
  {
   "cell_type": "markdown",
   "id": "4a9d5562",
   "metadata": {},
   "source": [
    "Query 1: Number of elements for each biopax types <a class=\"anchor\" id=\"query1\"></a>"
   ]
  },
  {
   "cell_type": "code",
   "execution_count": 5,
   "id": "2a12231d",
   "metadata": {
    "scrolled": true
   },
   "outputs": [
    {
     "data": {
      "text/html": [
       "<div>\n",
       "<style scoped>\n",
       "    .dataframe tbody tr th:only-of-type {\n",
       "        vertical-align: middle;\n",
       "    }\n",
       "\n",
       "    .dataframe tbody tr th {\n",
       "        vertical-align: top;\n",
       "    }\n",
       "\n",
       "    .dataframe thead th {\n",
       "        text-align: right;\n",
       "    }\n",
       "</style>\n",
       "<table border=\"1\" class=\"dataframe\">\n",
       "  <thead>\n",
       "    <tr style=\"text-align: right;\">\n",
       "      <th></th>\n",
       "      <th>type</th>\n",
       "      <th>nb_elements</th>\n",
       "    </tr>\n",
       "  </thead>\n",
       "  <tbody>\n",
       "    <tr>\n",
       "      <th>0</th>\n",
       "      <td>http://www.biopax.org/release/biopax-level3.owl#UnificationXref</td>\n",
       "      <td>92628</td>\n",
       "    </tr>\n",
       "    <tr>\n",
       "      <th>1</th>\n",
       "      <td>http://www.biopax.org/release/biopax-level3.owl#Stoichiometry</td>\n",
       "      <td>43736</td>\n",
       "    </tr>\n",
       "    <tr>\n",
       "      <th>2</th>\n",
       "      <td>http://www.biopax.org/release/biopax-level3.owl#SequenceSite</td>\n",
       "      <td>32300</td>\n",
       "    </tr>\n",
       "    <tr>\n",
       "      <th>3</th>\n",
       "      <td>http://www.biopax.org/release/biopax-level3.owl#PublicationXref</td>\n",
       "      <td>21907</td>\n",
       "    </tr>\n",
       "    <tr>\n",
       "      <th>4</th>\n",
       "      <td>http://www.biopax.org/release/biopax-level3.owl#Protein</td>\n",
       "      <td>17252</td>\n",
       "    </tr>\n",
       "    <tr>\n",
       "      <th>5</th>\n",
       "      <td>http://www.biopax.org/release/biopax-level3.owl#FragmentFeature</td>\n",
       "      <td>14975</td>\n",
       "    </tr>\n",
       "    <tr>\n",
       "      <th>6</th>\n",
       "      <td>http://www.biopax.org/release/biopax-level3.owl#SequenceInterval</td>\n",
       "      <td>14975</td>\n",
       "    </tr>\n",
       "    <tr>\n",
       "      <th>7</th>\n",
       "      <td>http://www.biopax.org/release/biopax-level3.owl#Evidence</td>\n",
       "      <td>9062</td>\n",
       "    </tr>\n",
       "    <tr>\n",
       "      <th>8</th>\n",
       "      <td>http://www.biopax.org/release/biopax-level3.owl#PathwayStep</td>\n",
       "      <td>9035</td>\n",
       "    </tr>\n",
       "    <tr>\n",
       "      <th>9</th>\n",
       "      <td>http://www.biopax.org/release/biopax-level3.owl#Complex</td>\n",
       "      <td>8945</td>\n",
       "    </tr>\n",
       "    <tr>\n",
       "      <th>10</th>\n",
       "      <td>http://www.biopax.org/release/biopax-level3.owl#ProteinReference</td>\n",
       "      <td>8086</td>\n",
       "    </tr>\n",
       "    <tr>\n",
       "      <th>11</th>\n",
       "      <td>http://www.biopax.org/release/biopax-level3.owl#BiochemicalReaction</td>\n",
       "      <td>7393</td>\n",
       "    </tr>\n",
       "    <tr>\n",
       "      <th>12</th>\n",
       "      <td>http://www.biopax.org/release/biopax-level3.owl#RelationshipXref</td>\n",
       "      <td>6593</td>\n",
       "    </tr>\n",
       "    <tr>\n",
       "      <th>13</th>\n",
       "      <td>http://www.biopax.org/release/biopax-level3.owl#SmallMolecule</td>\n",
       "      <td>4081</td>\n",
       "    </tr>\n",
       "    <tr>\n",
       "      <th>14</th>\n",
       "      <td>http://www.biopax.org/release/biopax-level3.owl#Catalysis</td>\n",
       "      <td>3867</td>\n",
       "    </tr>\n",
       "    <tr>\n",
       "      <th>15</th>\n",
       "      <td>http://www.biopax.org/release/biopax-level3.owl#ModificationFeature</td>\n",
       "      <td>3569</td>\n",
       "    </tr>\n",
       "    <tr>\n",
       "      <th>16</th>\n",
       "      <td>http://www.biopax.org/release/biopax-level3.owl#SmallMoleculeReference</td>\n",
       "      <td>2412</td>\n",
       "    </tr>\n",
       "    <tr>\n",
       "      <th>17</th>\n",
       "      <td>http://www.biopax.org/release/biopax-level3.owl#Pathway</td>\n",
       "      <td>1653</td>\n",
       "    </tr>\n",
       "    <tr>\n",
       "      <th>18</th>\n",
       "      <td>http://www.biopax.org/release/biopax-level3.owl#PhysicalEntity</td>\n",
       "      <td>1294</td>\n",
       "    </tr>\n",
       "    <tr>\n",
       "      <th>19</th>\n",
       "      <td>http://www.biopax.org/release/biopax-level3.owl#Control</td>\n",
       "      <td>674</td>\n",
       "    </tr>\n",
       "    <tr>\n",
       "      <th>20</th>\n",
       "      <td>http://www.biopax.org/release/biopax-level3.owl#CellularLocationVocabulary</td>\n",
       "      <td>113</td>\n",
       "    </tr>\n",
       "    <tr>\n",
       "      <th>21</th>\n",
       "      <td>http://www.biopax.org/release/biopax-level3.owl#SequenceModificationVocabulary</td>\n",
       "      <td>110</td>\n",
       "    </tr>\n",
       "    <tr>\n",
       "      <th>22</th>\n",
       "      <td>http://www.biopax.org/release/biopax-level3.owl#Degradation</td>\n",
       "      <td>13</td>\n",
       "    </tr>\n",
       "    <tr>\n",
       "      <th>23</th>\n",
       "      <td>http://www.biopax.org/release/biopax-level3.owl#TemplateReaction</td>\n",
       "      <td>6</td>\n",
       "    </tr>\n",
       "    <tr>\n",
       "      <th>24</th>\n",
       "      <td>http://www.biopax.org/release/biopax-level3.owl#RelationshipTypeVocabulary</td>\n",
       "      <td>4</td>\n",
       "    </tr>\n",
       "    <tr>\n",
       "      <th>25</th>\n",
       "      <td>http://www.biopax.org/release/biopax-level3.owl#TemplateReactionRegulation</td>\n",
       "      <td>4</td>\n",
       "    </tr>\n",
       "    <tr>\n",
       "      <th>26</th>\n",
       "      <td>http://www.biopax.org/release/biopax-level3.owl#BioSource</td>\n",
       "      <td>1</td>\n",
       "    </tr>\n",
       "    <tr>\n",
       "      <th>27</th>\n",
       "      <td>http://www.biopax.org/release/biopax-level3.owl#EvidenceCodeVocabulary</td>\n",
       "      <td>1</td>\n",
       "    </tr>\n",
       "    <tr>\n",
       "      <th>28</th>\n",
       "      <td>http://www.biopax.org/release/biopax-level3.owl#Provenance</td>\n",
       "      <td>1</td>\n",
       "    </tr>\n",
       "  </tbody>\n",
       "</table>\n",
       "</div>"
      ],
      "text/plain": [
       "                                                                              type  \\\n",
       "0                  http://www.biopax.org/release/biopax-level3.owl#UnificationXref   \n",
       "1                    http://www.biopax.org/release/biopax-level3.owl#Stoichiometry   \n",
       "2                     http://www.biopax.org/release/biopax-level3.owl#SequenceSite   \n",
       "3                  http://www.biopax.org/release/biopax-level3.owl#PublicationXref   \n",
       "4                          http://www.biopax.org/release/biopax-level3.owl#Protein   \n",
       "5                  http://www.biopax.org/release/biopax-level3.owl#FragmentFeature   \n",
       "6                 http://www.biopax.org/release/biopax-level3.owl#SequenceInterval   \n",
       "7                         http://www.biopax.org/release/biopax-level3.owl#Evidence   \n",
       "8                      http://www.biopax.org/release/biopax-level3.owl#PathwayStep   \n",
       "9                          http://www.biopax.org/release/biopax-level3.owl#Complex   \n",
       "10                http://www.biopax.org/release/biopax-level3.owl#ProteinReference   \n",
       "11             http://www.biopax.org/release/biopax-level3.owl#BiochemicalReaction   \n",
       "12                http://www.biopax.org/release/biopax-level3.owl#RelationshipXref   \n",
       "13                   http://www.biopax.org/release/biopax-level3.owl#SmallMolecule   \n",
       "14                       http://www.biopax.org/release/biopax-level3.owl#Catalysis   \n",
       "15             http://www.biopax.org/release/biopax-level3.owl#ModificationFeature   \n",
       "16          http://www.biopax.org/release/biopax-level3.owl#SmallMoleculeReference   \n",
       "17                         http://www.biopax.org/release/biopax-level3.owl#Pathway   \n",
       "18                  http://www.biopax.org/release/biopax-level3.owl#PhysicalEntity   \n",
       "19                         http://www.biopax.org/release/biopax-level3.owl#Control   \n",
       "20      http://www.biopax.org/release/biopax-level3.owl#CellularLocationVocabulary   \n",
       "21  http://www.biopax.org/release/biopax-level3.owl#SequenceModificationVocabulary   \n",
       "22                     http://www.biopax.org/release/biopax-level3.owl#Degradation   \n",
       "23                http://www.biopax.org/release/biopax-level3.owl#TemplateReaction   \n",
       "24      http://www.biopax.org/release/biopax-level3.owl#RelationshipTypeVocabulary   \n",
       "25      http://www.biopax.org/release/biopax-level3.owl#TemplateReactionRegulation   \n",
       "26                       http://www.biopax.org/release/biopax-level3.owl#BioSource   \n",
       "27          http://www.biopax.org/release/biopax-level3.owl#EvidenceCodeVocabulary   \n",
       "28                      http://www.biopax.org/release/biopax-level3.owl#Provenance   \n",
       "\n",
       "   nb_elements  \n",
       "0        92628  \n",
       "1        43736  \n",
       "2        32300  \n",
       "3        21907  \n",
       "4        17252  \n",
       "5        14975  \n",
       "6        14975  \n",
       "7         9062  \n",
       "8         9035  \n",
       "9         8945  \n",
       "10        8086  \n",
       "11        7393  \n",
       "12        6593  \n",
       "13        4081  \n",
       "14        3867  \n",
       "15        3569  \n",
       "16        2412  \n",
       "17        1653  \n",
       "18        1294  \n",
       "19         674  \n",
       "20         113  \n",
       "21         110  \n",
       "22          13  \n",
       "23           6  \n",
       "24           4  \n",
       "25           4  \n",
       "26           1  \n",
       "27           1  \n",
       "28           1  "
      ]
     },
     "execution_count": 5,
     "metadata": {},
     "output_type": "execute_result"
    }
   ],
   "source": [
    "## Reactome - initial file\n",
    "## Version xml:base=\"http://www.reactome.org/biopax/81/48887#\"> (2022-06)\n",
    "\n",
    "## Number of elements for each biopax types\n",
    "query=\"\"\"\n",
    "# Number of elements for each biopax types in reactome\n",
    "SELECT ?type (COUNT(DISTINCT(?element)) AS ?nb_elements)\n",
    "WHERE {\n",
    "  ?element a ?type.\n",
    "  FILTER(STRSTARTS(STR(?type),str(bp3:)) )\n",
    "}\n",
    "GROUP BY ?type\n",
    "ORDER BY DESC (?nb_elements)\n",
    "\"\"\"\n",
    "pandas.set_option(\"max_colwidth\", 80)\n",
    "df = sparqldataframe.query(endpointURL, prefixes+query)\n",
    "df"
   ]
  },
  {
   "cell_type": "markdown",
   "id": "19b31928",
   "metadata": {},
   "source": [
    "### Complexes <a class=\"anchor\" id=\"complexes\"></a>\n",
    "\n",
    "#### Complexes in BioPAX specifications <a class=\"anchor\" id=\"complexes_in_biopax\"></a>\n",
    "\n",
    "- **Complex** (BioPAX-level3 page 48)\n",
    "    - physical product of an interaction\n",
    "    - **complexes should not be defined recursively** (a complex should not be a component of another complex)\n",
    "    - **exceptions are black box complexes** i.e. complexes in which the component property is empty\n",
    "    - the `bp3:component` property\n",
    "        - has domain: `bp3:Complex`\n",
    "        - has range: `bp3:PhysicalEntity`, which subclasses are:\n",
    "            - `bp3:Dna`\n",
    "            - `bp3:Rna`\n",
    "            - `bp3:Protein`\n",
    "            - `bp3:Complex` warning: black box complexes only!\n",
    "            - `bp3:SmallMolecule`\n",
    "- **Black box complex**\n",
    "- **Redundant complexes** are complexes having different identifiers, possibly from different databases but having the same chemical and physical properties\n",
    "    - redundant complexes form equivalence classes"
   ]
  },
  {
   "cell_type": "markdown",
   "id": "dc6109c0",
   "metadata": {},
   "source": [
    "#### Complexes in Reactome <a class=\"anchor\" id=\"complex_reactome\"></a>\n",
    "![](./2022_03_09_Complex_Biopax.png)"
   ]
  },
  {
   "cell_type": "markdown",
   "id": "12056ddd",
   "metadata": {},
   "source": [
    "#### Summary <a class=\"anchor\" id=\"summary\"></a>\n",
    "- complexes: 14840\n",
    "- black box complexes: 858\n",
    "- complexes that have at least one component: 13982\n",
    "    - (complexes that are not black box complexes)\n",
    "    - control: 14840-858=13982\n",
    "    - they have up to 65 direct components\n",
    "- complexes that have at least one component that is a complex: 6249\n",
    "    - might be ok if all these components are black box complexes\n",
    "    - 44.7% of 13982 \n",
    "    - 42.1% of 14776 \n",
    "    - control: complexes that have at least one component, none of which is a complex: 7733 (13982-6249=7733)\n",
    "- complexes that have at least one component that is a black box complex: ~739~ 737\n",
    "    - 11.8% of 6249 \n",
    "- complexes that have at least one component that is a complex, and all its components that are complexes are actually black box complexes: ~517~ 515 \n",
    "    - was expecting more, ideally 6249 \n",
    "    - 8.2% of 6249 \n",
    "- complexes that have at least one component that is a complex but not a black box complex: ~5710~ 5734\n",
    "    - **these complexes should be fixed**\n",
    "    - 38.6% of 14840\n",
    "    - 41% of 13982\n",
    "- complexes that are not black boxes but are a component of at least another complex: 4333\n",
    "    - **they are the ones to look at for fixing the 5734**\n",
    "    - they can be valid (i.e. all their components that are complexes are black box complexes) or invalid\n",
    "    - they can be involved in chemical reactions (and therefore we should keep them, possibly after making them compliant and after detecting redundancies) or not (and these we can probably discard)\n",
    "    -  ~1032~  of them are the direct component of more than one complex (max = direct component of 65 complexes)"
   ]
  },
  {
   "cell_type": "markdown",
   "id": "459c7ae1",
   "metadata": {},
   "source": [
    "Query 2: How many black-box complexes? <a class=\"anchor\" id=\"query2\"></a>"
   ]
  },
  {
   "cell_type": "code",
   "execution_count": 6,
   "id": "255fe143",
   "metadata": {},
   "outputs": [
    {
     "data": {
      "text/html": [
       "<div>\n",
       "<style scoped>\n",
       "    .dataframe tbody tr th:only-of-type {\n",
       "        vertical-align: middle;\n",
       "    }\n",
       "\n",
       "    .dataframe tbody tr th {\n",
       "        vertical-align: top;\n",
       "    }\n",
       "\n",
       "    .dataframe thead th {\n",
       "        text-align: right;\n",
       "    }\n",
       "</style>\n",
       "<table border=\"1\" class=\"dataframe\">\n",
       "  <thead>\n",
       "    <tr style=\"text-align: right;\">\n",
       "      <th></th>\n",
       "      <th>nbComplexesBB</th>\n",
       "    </tr>\n",
       "  </thead>\n",
       "  <tbody>\n",
       "    <tr>\n",
       "      <th>0</th>\n",
       "      <td>479</td>\n",
       "    </tr>\n",
       "  </tbody>\n",
       "</table>\n",
       "</div>"
      ],
      "text/plain": [
       "  nbComplexesBB\n",
       "0           479"
      ]
     },
     "execution_count": 6,
     "metadata": {},
     "output_type": "execute_result"
    }
   ],
   "source": [
    "## OD\n",
    "query=\"\"\"\n",
    "# Blackbox complexes\n",
    "\n",
    "SELECT (COUNT(DISTINCT ?complexBB) AS ?nbComplexesBB)\n",
    "WHERE {\n",
    "  ?complexBB rdf:type bp3:Complex .\n",
    "  FILTER NOT EXISTS {\n",
    "    ?complexBB bp3:component ?complexComponent . \n",
    "  }\n",
    "}\"\"\"\n",
    "\n",
    "df = sparqldataframe.query(endpointURL, prefixes+query)\n",
    "df"
   ]
  },
  {
   "cell_type": "markdown",
   "id": "4e74975f",
   "metadata": {},
   "source": [
    "Query 3: How many complexes have at least one component? <a class=\"anchor\" id=\"query3\"></a>"
   ]
  },
  {
   "cell_type": "code",
   "execution_count": 7,
   "id": "8059f76c",
   "metadata": {},
   "outputs": [
    {
     "data": {
      "text/html": [
       "<div>\n",
       "<style scoped>\n",
       "    .dataframe tbody tr th:only-of-type {\n",
       "        vertical-align: middle;\n",
       "    }\n",
       "\n",
       "    .dataframe tbody tr th {\n",
       "        vertical-align: top;\n",
       "    }\n",
       "\n",
       "    .dataframe thead th {\n",
       "        text-align: right;\n",
       "    }\n",
       "</style>\n",
       "<table border=\"1\" class=\"dataframe\">\n",
       "  <thead>\n",
       "    <tr style=\"text-align: right;\">\n",
       "      <th></th>\n",
       "      <th>nbComplexes</th>\n",
       "    </tr>\n",
       "  </thead>\n",
       "  <tbody>\n",
       "    <tr>\n",
       "      <th>0</th>\n",
       "      <td>8466</td>\n",
       "    </tr>\n",
       "  </tbody>\n",
       "</table>\n",
       "</div>"
      ],
      "text/plain": [
       "  nbComplexes\n",
       "0        8466"
      ]
     },
     "execution_count": 7,
     "metadata": {},
     "output_type": "execute_result"
    }
   ],
   "source": [
    "## OD\n",
    "query=\"\"\"\n",
    "# Complexes that have at least one component\n",
    "# i.e. complexes that are not blackbox complexes\n",
    "\n",
    "SELECT (COUNT(DISTINCT ?complex) AS ?nbComplexes)\n",
    "WHERE {\n",
    "  ?complex rdf:type bp3:Complex .\n",
    "  ?complex bp3:component ?complexComponent . \n",
    "}\"\"\"\n",
    "\n",
    "df = sparqldataframe.query(endpointURL, prefixes+query)\n",
    "df"
   ]
  },
  {
   "cell_type": "markdown",
   "id": "33d1eda0",
   "metadata": {},
   "source": [
    "Query 4: How many complexes have at least one component that is a complex? <a class=\"anchor\" id=\"query4\"></a>"
   ]
  },
  {
   "cell_type": "code",
   "execution_count": 8,
   "id": "dad28944",
   "metadata": {},
   "outputs": [
    {
     "data": {
      "text/html": [
       "<div>\n",
       "<style scoped>\n",
       "    .dataframe tbody tr th:only-of-type {\n",
       "        vertical-align: middle;\n",
       "    }\n",
       "\n",
       "    .dataframe tbody tr th {\n",
       "        vertical-align: top;\n",
       "    }\n",
       "\n",
       "    .dataframe thead th {\n",
       "        text-align: right;\n",
       "    }\n",
       "</style>\n",
       "<table border=\"1\" class=\"dataframe\">\n",
       "  <thead>\n",
       "    <tr style=\"text-align: right;\">\n",
       "      <th></th>\n",
       "      <th>nbComplexes</th>\n",
       "    </tr>\n",
       "  </thead>\n",
       "  <tbody>\n",
       "    <tr>\n",
       "      <th>0</th>\n",
       "      <td>633</td>\n",
       "    </tr>\n",
       "  </tbody>\n",
       "</table>\n",
       "</div>"
      ],
      "text/plain": [
       "  nbComplexes\n",
       "0         633"
      ]
     },
     "execution_count": 8,
     "metadata": {},
     "output_type": "execute_result"
    }
   ],
   "source": [
    "## OD\n",
    "query=\"\"\"\n",
    "# Complexes that have at least one component that is a complex\n",
    "\n",
    "SELECT (COUNT(DISTINCT ?complex) AS ?nbComplexes)\n",
    "WHERE {\n",
    "  ?complex rdf:type bp3:Complex .\n",
    "  ?complex bp3:component ?complexComponent . \n",
    "  ?complexComponent rdf:type bp3:Complex .\n",
    "}\"\"\"\n",
    "\n",
    "df = sparqldataframe.query(endpointURL, prefixes+query)\n",
    "df"
   ]
  },
  {
   "cell_type": "markdown",
   "id": "12e64168",
   "metadata": {},
   "source": [
    "Query 5: How many complexes have at least one component, none of which is a complex? <a class=\"anchor\" id=\"query5\"></a>"
   ]
  },
  {
   "cell_type": "code",
   "execution_count": 9,
   "id": "88fc2068",
   "metadata": {},
   "outputs": [
    {
     "data": {
      "text/html": [
       "<div>\n",
       "<style scoped>\n",
       "    .dataframe tbody tr th:only-of-type {\n",
       "        vertical-align: middle;\n",
       "    }\n",
       "\n",
       "    .dataframe tbody tr th {\n",
       "        vertical-align: top;\n",
       "    }\n",
       "\n",
       "    .dataframe thead th {\n",
       "        text-align: right;\n",
       "    }\n",
       "</style>\n",
       "<table border=\"1\" class=\"dataframe\">\n",
       "  <thead>\n",
       "    <tr style=\"text-align: right;\">\n",
       "      <th></th>\n",
       "      <th>nbComplexes</th>\n",
       "    </tr>\n",
       "  </thead>\n",
       "  <tbody>\n",
       "    <tr>\n",
       "      <th>0</th>\n",
       "      <td>7833</td>\n",
       "    </tr>\n",
       "  </tbody>\n",
       "</table>\n",
       "</div>"
      ],
      "text/plain": [
       "  nbComplexes\n",
       "0        7833"
      ]
     },
     "execution_count": 9,
     "metadata": {},
     "output_type": "execute_result"
    }
   ],
   "source": [
    "## OD\n",
    "query=\"\"\"\n",
    "# Complexes that have at least one component, none of which is a complex\n",
    "\n",
    "SELECT (COUNT(DISTINCT ?complex) AS ?nbComplexes)\n",
    "WHERE {\n",
    "  ?complex rdf:type bp3:Complex .\n",
    "  ?complex bp3:component ?complexComponent . \n",
    "  FILTER NOT EXISTS {\n",
    "    ?complex bp3:component ?someComplexComponent . \n",
    "    ?someComplexComponent rdf:type bp3:Complex .\n",
    "  }\n",
    "}\"\"\"\n",
    "\n",
    "df = sparqldataframe.query(endpointURL, prefixes+query)\n",
    "df"
   ]
  },
  {
   "cell_type": "markdown",
   "id": "8ef95d96",
   "metadata": {},
   "source": [
    "Query 6: How many complexes have at least one component that is a blackbox complex  <a class=\"anchor\" id=\"query6\"></a>"
   ]
  },
  {
   "cell_type": "code",
   "execution_count": 10,
   "id": "8cbc7c0f",
   "metadata": {},
   "outputs": [
    {
     "data": {
      "text/html": [
       "<div>\n",
       "<style scoped>\n",
       "    .dataframe tbody tr th:only-of-type {\n",
       "        vertical-align: middle;\n",
       "    }\n",
       "\n",
       "    .dataframe tbody tr th {\n",
       "        vertical-align: top;\n",
       "    }\n",
       "\n",
       "    .dataframe thead th {\n",
       "        text-align: right;\n",
       "    }\n",
       "</style>\n",
       "<table border=\"1\" class=\"dataframe\">\n",
       "  <thead>\n",
       "    <tr style=\"text-align: right;\">\n",
       "      <th></th>\n",
       "      <th>nbComplexes</th>\n",
       "    </tr>\n",
       "  </thead>\n",
       "  <tbody>\n",
       "    <tr>\n",
       "      <th>0</th>\n",
       "      <td>633</td>\n",
       "    </tr>\n",
       "  </tbody>\n",
       "</table>\n",
       "</div>"
      ],
      "text/plain": [
       "  nbComplexes\n",
       "0         633"
      ]
     },
     "execution_count": 10,
     "metadata": {},
     "output_type": "execute_result"
    }
   ],
   "source": [
    "## OD\n",
    "query=\"\"\"\n",
    "# Complexes that have at least one component that is a blackbox complex\n",
    "\n",
    "SELECT (COUNT(DISTINCT ?complex) AS ?nbComplexes)\n",
    "WHERE {\n",
    "  ?complex rdf:type bp3:Complex .\n",
    "  ?complex bp3:component ?complexComponent . \n",
    "  ?complexComponent rdf:type bp3:Complex .\n",
    "  FILTER NOT EXISTS {\n",
    "    ?complexComponent bp3:component ?someComplexComponent . \n",
    "  }\n",
    "}\"\"\"\n",
    "\n",
    "df = sparqldataframe.query(endpointURL, prefixes+query)\n",
    "df"
   ]
  },
  {
   "cell_type": "markdown",
   "id": "03a2e010",
   "metadata": {},
   "source": [
    "Query 7: How many complexes have at least one component that is a complex, and all its components that are complexes are actually black box complexes? <a class=\"anchor\" id=\"query7\"></a>"
   ]
  },
  {
   "cell_type": "code",
   "execution_count": 11,
   "id": "97593c27",
   "metadata": {},
   "outputs": [
    {
     "data": {
      "text/html": [
       "<div>\n",
       "<style scoped>\n",
       "    .dataframe tbody tr th:only-of-type {\n",
       "        vertical-align: middle;\n",
       "    }\n",
       "\n",
       "    .dataframe tbody tr th {\n",
       "        vertical-align: top;\n",
       "    }\n",
       "\n",
       "    .dataframe thead th {\n",
       "        text-align: right;\n",
       "    }\n",
       "</style>\n",
       "<table border=\"1\" class=\"dataframe\">\n",
       "  <thead>\n",
       "    <tr style=\"text-align: right;\">\n",
       "      <th></th>\n",
       "      <th>nbComplexes</th>\n",
       "    </tr>\n",
       "  </thead>\n",
       "  <tbody>\n",
       "    <tr>\n",
       "      <th>0</th>\n",
       "      <td>633</td>\n",
       "    </tr>\n",
       "  </tbody>\n",
       "</table>\n",
       "</div>"
      ],
      "text/plain": [
       "  nbComplexes\n",
       "0         633"
      ]
     },
     "execution_count": 11,
     "metadata": {},
     "output_type": "execute_result"
    }
   ],
   "source": [
    "## OD\n",
    "query=\"\"\"\n",
    "# Complexes that have at least one component that is a complex, \n",
    "# and all its components that are complexes are actually black box complexes\n",
    "\n",
    "SELECT (COUNT(DISTINCT ?complex) AS ?nbComplexes)\n",
    "WHERE {\n",
    "  ?complex rdf:type bp3:Complex .\n",
    "  ?complex bp3:component ?complexComponent . \n",
    "  ?complexComponent rdf:type bp3:Complex .\n",
    "  FILTER NOT EXISTS {\n",
    "    ?complex bp3:component ?someComplexComponent . \n",
    "    ?someComplexComponent rdf:type bp3:Complex .\n",
    "    ?someComplexComponent bp3:component ?someComplexComponentComponent .\n",
    "  }\n",
    "}\"\"\"\n",
    "\n",
    "df = sparqldataframe.query(endpointURL, prefixes+query)\n",
    "df"
   ]
  },
  {
   "cell_type": "markdown",
   "id": "ba3fcc42",
   "metadata": {},
   "source": [
    "Query 8: How many complexes have at least one component that is a complex, but not a black-box complex? <a class=\"anchor\" id=\"query8\"></a>\n",
    "\n",
    "Number of invalid complexes"
   ]
  },
  {
   "cell_type": "code",
   "execution_count": 12,
   "id": "d8adbaf8",
   "metadata": {},
   "outputs": [
    {
     "data": {
      "text/html": [
       "<div>\n",
       "<style scoped>\n",
       "    .dataframe tbody tr th:only-of-type {\n",
       "        vertical-align: middle;\n",
       "    }\n",
       "\n",
       "    .dataframe tbody tr th {\n",
       "        vertical-align: top;\n",
       "    }\n",
       "\n",
       "    .dataframe thead th {\n",
       "        text-align: right;\n",
       "    }\n",
       "</style>\n",
       "<table border=\"1\" class=\"dataframe\">\n",
       "  <thead>\n",
       "    <tr style=\"text-align: right;\">\n",
       "      <th></th>\n",
       "      <th>nbComplexes</th>\n",
       "    </tr>\n",
       "  </thead>\n",
       "  <tbody>\n",
       "    <tr>\n",
       "      <th>0</th>\n",
       "      <td>0</td>\n",
       "    </tr>\n",
       "  </tbody>\n",
       "</table>\n",
       "</div>"
      ],
      "text/plain": [
       "  nbComplexes\n",
       "0           0"
      ]
     },
     "execution_count": 12,
     "metadata": {},
     "output_type": "execute_result"
    }
   ],
   "source": [
    "## OD\n",
    "query=\"\"\"\n",
    "# All invalid complexes\n",
    "# Complexes that have at least one component that is a complex, but not a black box complexes\n",
    "\n",
    "SELECT (COUNT(DISTINCT ?complex) AS ?nbComplexes)\n",
    "WHERE {\n",
    "  ?complex rdf:type bp3:Complex .\n",
    "  ?complex bp3:component ?complexComponent . \n",
    "  ?complexComponent rdf:type bp3:Complex .\n",
    "  ?complexComponent bp3:component ?someComplexComponentComponent .\n",
    "}\"\"\"\n",
    "\n",
    "df = sparqldataframe.query(endpointURL, prefixes+query)\n",
    "df"
   ]
  },
  {
   "cell_type": "markdown",
   "id": "9e83cae5",
   "metadata": {},
   "source": [
    "Query 9: How many complexes, that are not black-boxes, are a component of at least another complex? <a class=\"anchor\" id=\"query9\"></a>"
   ]
  },
  {
   "cell_type": "code",
   "execution_count": 13,
   "id": "f18aac3d",
   "metadata": {},
   "outputs": [
    {
     "data": {
      "text/html": [
       "<div>\n",
       "<style scoped>\n",
       "    .dataframe tbody tr th:only-of-type {\n",
       "        vertical-align: middle;\n",
       "    }\n",
       "\n",
       "    .dataframe tbody tr th {\n",
       "        vertical-align: top;\n",
       "    }\n",
       "\n",
       "    .dataframe thead th {\n",
       "        text-align: right;\n",
       "    }\n",
       "</style>\n",
       "<table border=\"1\" class=\"dataframe\">\n",
       "  <thead>\n",
       "    <tr style=\"text-align: right;\">\n",
       "      <th></th>\n",
       "      <th>nbComplexes</th>\n",
       "    </tr>\n",
       "  </thead>\n",
       "  <tbody>\n",
       "    <tr>\n",
       "      <th>0</th>\n",
       "      <td>0</td>\n",
       "    </tr>\n",
       "  </tbody>\n",
       "</table>\n",
       "</div>"
      ],
      "text/plain": [
       "  nbComplexes\n",
       "0           0"
      ]
     },
     "execution_count": 13,
     "metadata": {},
     "output_type": "execute_result"
    }
   ],
   "source": [
    "## OD\n",
    "query=\"\"\"\n",
    "# Complexes that are not black boxes but are a component of at least another complex\n",
    "\n",
    "SELECT (COUNT(DISTINCT ?complex) AS ?nbComplexes)\n",
    "WHERE {\n",
    "  ?complex rdf:type bp3:Complex .\n",
    "  ?complex bp3:component ?complexComponent . \n",
    "  \n",
    "  ?superComplex bp3:component ?complex .\n",
    "  ?superComplex rdf:type bp3:Complex .\n",
    "}\"\"\"\n",
    "\n",
    "df = sparqldataframe.query(endpointURL, prefixes+query)\n",
    "df"
   ]
  },
  {
   "cell_type": "markdown",
   "id": "46123870",
   "metadata": {},
   "source": [
    "Query 10: Distribution of the number of direct components by complex <a class=\"anchor\" id=\"query10\"></a>"
   ]
  },
  {
   "cell_type": "code",
   "execution_count": 14,
   "id": "a6340e91",
   "metadata": {},
   "outputs": [
    {
     "data": {
      "text/plain": [
       "count    8945.000000\n",
       "mean        4.653214\n",
       "std         9.365004\n",
       "min         0.000000\n",
       "25%         2.000000\n",
       "50%         2.000000\n",
       "75%         4.000000\n",
       "max       151.000000\n",
       "Name: nbComponents, dtype: float64"
      ]
     },
     "execution_count": 14,
     "metadata": {},
     "output_type": "execute_result"
    }
   ],
   "source": [
    "## OD\n",
    "query=\"\"\"\n",
    "# Distribution of the number of direct components by complex\n",
    "\n",
    "SELECT ?complex (COUNT(DISTINCT ?complexComponent) AS ?nbComponents)\n",
    "WHERE {\n",
    "  {\n",
    "    ?complex rdf:type bp3:Complex .\n",
    "    ?complex bp3:component ?complexComponent . \n",
    "  }\n",
    "  UNION\n",
    "  {\n",
    "    ?complex rdf:type bp3:Complex .\n",
    "    FILTER NOT EXISTS {\n",
    "      ?complex bp3:component ?complexComponent . \n",
    "    }\n",
    "  }\n",
    "}\n",
    "GROUP BY ?complex\n",
    "#ORDER BY DESC(?nbComponents)\n",
    "\"\"\"\n",
    "\n",
    "df = sparqldataframe.query(endpointURL, prefixes+query)\n",
    "df[\"nbComponents\"] = pandas.to_numeric(df[\"nbComponents\"])\n",
    "#df.to_csv(\"./direct_components.csv\")\n",
    "df[\"nbComponents\"].describe()"
   ]
  },
  {
   "cell_type": "code",
   "execution_count": 15,
   "id": "506705a1",
   "metadata": {},
   "outputs": [
    {
     "data": {
      "text/plain": [
       "Text(0.5, 0.98, 'Distribution of the number of direct components by complex')"
      ]
     },
     "execution_count": 15,
     "metadata": {},
     "output_type": "execute_result"
    },
    {
     "data": {
      "image/png": "[encoded data removed]",
      "text/plain": [
       "<Figure size 432x288 with 1 Axes>"
      ]
     },
     "metadata": {
      "needs_background": "light"
     },
     "output_type": "display_data"
    }
   ],
   "source": [
    "df['nbComponents'].hist(bins=df['nbComponents'].max()+1, log=True)\n",
    "plt.suptitle(\"Distribution of the number of direct components by complex\")"
   ]
  },
  {
   "cell_type": "markdown",
   "id": "96c9240f",
   "metadata": {},
   "source": [
    "Query 11: Distribution of the number of complexes a complex is a component of<a class=\"anchor\" id=\"query11\"></a>"
   ]
  },
  {
   "cell_type": "code",
   "execution_count": 16,
   "id": "eddafe74",
   "metadata": {},
   "outputs": [
    {
     "data": {
      "text/plain": [
       "Text(0.5, 0.98, 'Distribution of the number of complexes a complex is a component of')"
      ]
     },
     "execution_count": 16,
     "metadata": {},
     "output_type": "execute_result"
    },
    {
     "data": {
      "image/png": "[encoded data removed]",
      "text/plain": [
       "<Figure size 432x288 with 1 Axes>"
      ]
     },
     "metadata": {
      "needs_background": "light"
     },
     "output_type": "display_data"
    }
   ],
   "source": [
    "## OD\n",
    "query=\"\"\"\n",
    "# Distribution of the number of complexes a complex is a component of\n",
    "\n",
    "SELECT ?complex (COUNT(DISTINCT ?whole) AS ?nbWholes)\n",
    "WHERE {\n",
    "  {\n",
    "    ?complex rdf:type bp3:Complex .\n",
    "    ?whole bp3:component ?complex . \n",
    "  }\n",
    "  UNION\n",
    "  {\n",
    "    ?complex rdf:type bp3:Complex .\n",
    "    FILTER NOT EXISTS {\n",
    "      ?whole bp3:component ?complex .\n",
    "    }\n",
    "  }\n",
    "}\n",
    "GROUP BY ?complex\n",
    "#ORDER BY DESC(?nbComponents)\n",
    "\"\"\"\n",
    "\n",
    "df = sparqldataframe.query(endpointURL, prefixes+query)\n",
    "df[\"nbWholes\"] = pandas.to_numeric(df[\"nbWholes\"])\n",
    "df[\"nbWholes\"].describe()\n",
    "df[\"nbWholes\"].hist(bins=df['nbWholes'].max()+1, log=True)\n",
    "plt.suptitle(\"Distribution of the number of complexes a complex is a component of\")"
   ]
  },
  {
   "cell_type": "markdown",
   "id": "40c10895",
   "metadata": {},
   "source": [
    "Query 12: How many interactions **directly** involve invalid complexes? <a class=\"anchor\" id=\"query12\"></a>"
   ]
  },
  {
   "cell_type": "code",
   "execution_count": 17,
   "id": "e211ae47",
   "metadata": {},
   "outputs": [
    {
     "data": {
      "text/html": [
       "<div>\n",
       "<style scoped>\n",
       "    .dataframe tbody tr th:only-of-type {\n",
       "        vertical-align: middle;\n",
       "    }\n",
       "\n",
       "    .dataframe tbody tr th {\n",
       "        vertical-align: top;\n",
       "    }\n",
       "\n",
       "    .dataframe thead th {\n",
       "        text-align: right;\n",
       "    }\n",
       "</style>\n",
       "<table border=\"1\" class=\"dataframe\">\n",
       "  <thead>\n",
       "    <tr style=\"text-align: right;\">\n",
       "      <th></th>\n",
       "      <th>nbInteractions</th>\n",
       "    </tr>\n",
       "  </thead>\n",
       "  <tbody>\n",
       "    <tr>\n",
       "      <th>0</th>\n",
       "      <td>0</td>\n",
       "    </tr>\n",
       "  </tbody>\n",
       "</table>\n",
       "</div>"
      ],
      "text/plain": [
       "  nbInteractions\n",
       "0              0"
      ]
     },
     "execution_count": 17,
     "metadata": {},
     "output_type": "execute_result"
    }
   ],
   "source": [
    "## CJ\n",
    "query=\"\"\"\n",
    "#5734 invalid complexes, composed of 7119 molecules (proteins, smallmolecules et physicalentites)\n",
    "SELECT (COUNT(DISTINCT ?interaction) AS ?nbInteractions)\n",
    "WHERE {\n",
    "  ?invalidComplex rdf:type bp3:Complex .\n",
    "  ?invalidComplex bp3:component ?invalidComplexComponent . \n",
    "  ?invalidComplexComponent rdf:type bp3:Complex .\n",
    "  ?invalidComplexComponent bp3:component ?componentOfInvalidComplexComponent .\n",
    "  \n",
    "  ?rel rdfs:subPropertyOf* bp3:participant . \n",
    "  ?interaction ?rel ?complex .\n",
    "  \n",
    "}\"\"\"\n",
    "\n",
    "df = sparqldataframe.query(endpointURL, prefixes+query)\n",
    "df"
   ]
  },
  {
   "cell_type": "markdown",
   "id": "80caa17e",
   "metadata": {},
   "source": [
    "Query 13: How many different components (proteins, small molecules et physical entites) are involved in the invalid complexes? <a class=\"anchor\" id=\"query13\"></a>"
   ]
  },
  {
   "cell_type": "code",
   "execution_count": 18,
   "id": "e5c6b854",
   "metadata": {},
   "outputs": [
    {
     "data": {
      "text/html": [
       "<div>\n",
       "<style scoped>\n",
       "    .dataframe tbody tr th:only-of-type {\n",
       "        vertical-align: middle;\n",
       "    }\n",
       "\n",
       "    .dataframe tbody tr th {\n",
       "        vertical-align: top;\n",
       "    }\n",
       "\n",
       "    .dataframe thead th {\n",
       "        text-align: right;\n",
       "    }\n",
       "</style>\n",
       "<table border=\"1\" class=\"dataframe\">\n",
       "  <thead>\n",
       "    <tr style=\"text-align: right;\">\n",
       "      <th></th>\n",
       "      <th>nbInvalidComplexesComponents</th>\n",
       "    </tr>\n",
       "  </thead>\n",
       "  <tbody>\n",
       "    <tr>\n",
       "      <th>0</th>\n",
       "      <td>0</td>\n",
       "    </tr>\n",
       "  </tbody>\n",
       "</table>\n",
       "</div>"
      ],
      "text/plain": [
       "  nbInvalidComplexesComponents\n",
       "0                            0"
      ]
     },
     "execution_count": 18,
     "metadata": {},
     "output_type": "execute_result"
    }
   ],
   "source": [
    "## CJ\n",
    "query=\"\"\"\n",
    "#5734 invalid complexes, composed of 7119 molecules (proteins, smallmolecules et physicalentites)\n",
    "SELECT (COUNT(DISTINCT ?leafComponent) AS ?nbInvalidComplexesComponents)\n",
    "WHERE {\n",
    "  ?invalidComplex rdf:type bp3:Complex .\n",
    "  ?invalidComplex bp3:component ?invalidComplexComponent . \n",
    "  ?invalidComplexComponent rdf:type bp3:Complex .\n",
    "  ?invalidComplexComponent bp3:component ?someComplexComponentComponent .\n",
    "  \n",
    "  ?invalidComplex bp3:component+ ?leafComponent .\n",
    "  \n",
    "  FILTER NOT EXISTS {  ?leafComponent rdf:type bp3:Complex .}\n",
    "  FILTER NOT EXISTS {  ?leafComponent rdf:type bp3:Rna .}\n",
    "  FILTER NOT EXISTS {  ?leafComponent rdf:type bp3:Dna .}\n",
    "  FILTER NOT EXISTS {  ?leafComponent rdf:type bp3:Degradation .}\n",
    "  FILTER NOT EXISTS {  ?leafComponent rdf:type bp3:BiochemicalReaction .}\n",
    "  FILTER NOT EXISTS {  ?leafComponent rdf:type bp3:TemplateReaction .}\n",
    "  \n",
    "}\n",
    "\"\"\"\n",
    "\n",
    "df = sparqldataframe.query(endpointURL, prefixes+query)\n",
    "df"
   ]
  },
  {
   "cell_type": "markdown",
   "id": "6b8606f6",
   "metadata": {},
   "source": [
    "The 5,734 invalid complexes are (in)directly composed of 7,119 distinct entities that are not complexes, interactions, DNA or RNA. Nb: this excludes black-box complexes."
   ]
  },
  {
   "cell_type": "markdown",
   "id": "02c9212f",
   "metadata": {},
   "source": [
    "Query 14: How many interactions **directly** involve these components? <a class=\"anchor\" id=\"query14\"></a>"
   ]
  },
  {
   "cell_type": "code",
   "execution_count": 19,
   "id": "b1e55f91",
   "metadata": {},
   "outputs": [
    {
     "data": {
      "text/html": [
       "<div>\n",
       "<style scoped>\n",
       "    .dataframe tbody tr th:only-of-type {\n",
       "        vertical-align: middle;\n",
       "    }\n",
       "\n",
       "    .dataframe tbody tr th {\n",
       "        vertical-align: top;\n",
       "    }\n",
       "\n",
       "    .dataframe thead th {\n",
       "        text-align: right;\n",
       "    }\n",
       "</style>\n",
       "<table border=\"1\" class=\"dataframe\">\n",
       "  <thead>\n",
       "    <tr style=\"text-align: right;\">\n",
       "      <th></th>\n",
       "      <th>nbInteractions</th>\n",
       "    </tr>\n",
       "  </thead>\n",
       "  <tbody>\n",
       "    <tr>\n",
       "      <th>0</th>\n",
       "      <td>0</td>\n",
       "    </tr>\n",
       "  </tbody>\n",
       "</table>\n",
       "</div>"
      ],
      "text/plain": [
       "  nbInteractions\n",
       "0              0"
      ]
     },
     "execution_count": 19,
     "metadata": {},
     "output_type": "execute_result"
    }
   ],
   "source": [
    "## CJ OD\n",
    "query=\"\"\"\n",
    "#5734 invalid complexes, composed of 7119 molecules (proteins, smallmolecules et physicalentites)\n",
    "#All interactions that have a participant that is a component of an invalid complex \n",
    "\n",
    "SELECT (COUNT(DISTINCT ?interact) AS ?nbInteractions)\n",
    "WHERE {\n",
    "  ?invalidComplex rdf:type bp3:Complex .\n",
    "  ?invalidComplex bp3:component ?invalidComplexComponent .\n",
    "  ?invalidComplexComponent bp3:component ?componentOfInvalidComplexComponent .\n",
    "  \n",
    "  ?invalidComplex bp3:component* ?leafComponent .\n",
    "\n",
    "  FILTER NOT EXISTS {  ?leafComponent rdf:type bp3:Complex .}\n",
    "  FILTER NOT EXISTS {  ?leafComponent rdf:type bp3:Rna .}\n",
    "  FILTER NOT EXISTS {  ?leafComponent rdf:type bp3:Dna .}\n",
    "  FILTER NOT EXISTS {  ?leafComponent rdf:type bp3:Degradation .}\n",
    "  FILTER NOT EXISTS {  ?leafComponent rdf:type bp3:BiochemicalReaction .}\n",
    "  FILTER NOT EXISTS {  ?leafComponent rdf:type bp3:TemplateReaction .} \n",
    "  \n",
    "  ?interact ?hasParticipant ?leafComponent .\n",
    "  ?hasParticipant rdfs:subPropertyOf* bp3:participant .\n",
    "}\"\"\"\n",
    "\n",
    "df = sparqldataframe.query(endpointURL, prefixes+query)\n",
    "df"
   ]
  },
  {
   "cell_type": "markdown",
   "id": "a6e6ded8",
   "metadata": {},
   "source": [
    "Query 15: How many interactions involve a complex having a **direct** component that is a component of an invalid complex?  <a class=\"anchor\" id=\"query15\"></a>\n",
    "\n",
    "Interactions involving a complex composed directly of a component of an invalid complex"
   ]
  },
  {
   "cell_type": "code",
   "execution_count": 20,
   "id": "1549c19c",
   "metadata": {},
   "outputs": [
    {
     "data": {
      "text/html": [
       "<div>\n",
       "<style scoped>\n",
       "    .dataframe tbody tr th:only-of-type {\n",
       "        vertical-align: middle;\n",
       "    }\n",
       "\n",
       "    .dataframe tbody tr th {\n",
       "        vertical-align: top;\n",
       "    }\n",
       "\n",
       "    .dataframe thead th {\n",
       "        text-align: right;\n",
       "    }\n",
       "</style>\n",
       "<table border=\"1\" class=\"dataframe\">\n",
       "  <thead>\n",
       "    <tr style=\"text-align: right;\">\n",
       "      <th></th>\n",
       "      <th>nbInteractions</th>\n",
       "    </tr>\n",
       "  </thead>\n",
       "  <tbody>\n",
       "    <tr>\n",
       "      <th>0</th>\n",
       "      <td>0</td>\n",
       "    </tr>\n",
       "  </tbody>\n",
       "</table>\n",
       "</div>"
      ],
      "text/plain": [
       "  nbInteractions\n",
       "0              0"
      ]
     },
     "execution_count": 20,
     "metadata": {},
     "output_type": "execute_result"
    }
   ],
   "source": [
    "query=\"\"\"\n",
    "# All interactions that have a participant that is a complex having a direct component that is a component of an invalid complex (excludes black-box complexes)\n",
    "\n",
    "SELECT (COUNT(DISTINCT ?interact) AS ?nbInteractions)\n",
    "WHERE {\n",
    "  ?invalidComplex rdf:type bp3:Complex .\n",
    "  ?invalidComplex bp3:component ?invalidComplexComponent .\n",
    "  ?invalidComplexComponent bp3:component ?componentOfInvalidComplexComponent .\n",
    "  \n",
    "  ?invalidComplex bp3:component* ?leafComponent .\n",
    "\n",
    "  FILTER NOT EXISTS {  ?leafComponent rdf:type bp3:Complex .}\n",
    "  FILTER NOT EXISTS {  ?leafComponent rdf:type bp3:Rna .}\n",
    "  FILTER NOT EXISTS {  ?leafComponent rdf:type bp3:Dna .}\n",
    "  FILTER NOT EXISTS {  ?leafComponent rdf:type bp3:Degradation .}\n",
    "  FILTER NOT EXISTS {  ?leafComponent rdf:type bp3:BiochemicalReaction .}\n",
    "  FILTER NOT EXISTS {  ?leafComponent rdf:type bp3:TemplateReaction .}\n",
    "  \n",
    "  ?interactParticipant bp3:component? ?leafComponent . # 0 or 1 path\n",
    "  ?interact ?hasParticipant ?interactParticipant .\n",
    "  ?hasParticipant rdfs:subPropertyOf* bp3:participant .\n",
    "}\n",
    "\"\"\"\n",
    "\n",
    "df = sparqldataframe.query(endpointURL, prefixes+query)\n",
    "df"
   ]
  },
  {
   "cell_type": "markdown",
   "id": "30ea8415",
   "metadata": {},
   "source": [
    "Query 16: How many interactions **directly** and **indirectly** involve these components? <a class=\"anchor\" id=\"query16\"></a>\n",
    "\n",
    "Interactions involving a complex (valid or invalid) composed indirectly of a component of an invalid complex or the component itself"
   ]
  },
  {
   "cell_type": "code",
   "execution_count": 21,
   "id": "be86f7c8",
   "metadata": {},
   "outputs": [
    {
     "data": {
      "text/html": [
       "<div>\n",
       "<style scoped>\n",
       "    .dataframe tbody tr th:only-of-type {\n",
       "        vertical-align: middle;\n",
       "    }\n",
       "\n",
       "    .dataframe tbody tr th {\n",
       "        vertical-align: top;\n",
       "    }\n",
       "\n",
       "    .dataframe thead th {\n",
       "        text-align: right;\n",
       "    }\n",
       "</style>\n",
       "<table border=\"1\" class=\"dataframe\">\n",
       "  <thead>\n",
       "    <tr style=\"text-align: right;\">\n",
       "      <th></th>\n",
       "      <th>nbInteractions</th>\n",
       "    </tr>\n",
       "  </thead>\n",
       "  <tbody>\n",
       "    <tr>\n",
       "      <th>0</th>\n",
       "      <td>0</td>\n",
       "    </tr>\n",
       "  </tbody>\n",
       "</table>\n",
       "</div>"
      ],
      "text/plain": [
       "  nbInteractions\n",
       "0              0"
      ]
     },
     "execution_count": 21,
     "metadata": {},
     "output_type": "execute_result"
    }
   ],
   "source": [
    "## CJ OD\n",
    "query=\"\"\"\n",
    "#5734 invalid complexes, composed of 7119 molecules (proteins, smallmolecules et physicalentites)\n",
    "#Interactions involving a complex composed indirectly of a component of an invalid complex\n",
    "\n",
    "SELECT (COUNT(DISTINCT ?interact) AS ?nbInteractions)\n",
    "WHERE {\n",
    "  ?invalidComplex rdf:type bp3:Complex .\n",
    "  ?invalidComplex bp3:component ?invalidComplexComponent .\n",
    "  ?invalidComplexComponent bp3:component ?componentOfInvalidComplexComponent .\n",
    "  \n",
    "  ?invalidComplex bp3:component* ?leafComponent .\n",
    "  \n",
    "  FILTER NOT EXISTS {  ?leafComponent rdf:type bp3:Complex .}\n",
    "  FILTER NOT EXISTS {  ?leafComponent rdf:type bp3:Rna .}\n",
    "  FILTER NOT EXISTS {  ?leafComponent rdf:type bp3:Dna .}\n",
    "  FILTER NOT EXISTS {  ?leafComponent rdf:type bp3:Degradation .}\n",
    "  FILTER NOT EXISTS {  ?leafComponent rdf:type bp3:BiochemicalReaction .}\n",
    "  FILTER NOT EXISTS {  ?leafComponent rdf:type bp3:TemplateReaction .}\n",
    "  \n",
    "  \n",
    "  ?interactParticipant bp3:component* ?leafComponent . # 0 or more paths\n",
    "  ?hasParticipant rdfs:subPropertyOf* bp3:participant .  \n",
    "  ?interact ?hasParticipant ?interactParticipant .\n",
    "}\n",
    "\"\"\"\n",
    "\n",
    "df = sparqldataframe.query(endpointURL, prefixes+query)\n",
    "df"
   ]
  },
  {
   "cell_type": "markdown",
   "id": "a0238d7d",
   "metadata": {},
   "source": [
    "### Identify the redundant complexes <a class=\"anchor\" id=\"identify_redundant\"></a>"
   ]
  },
  {
   "cell_type": "markdown",
   "id": "bb3f3de8",
   "metadata": {},
   "source": [
    "Query 17: How many pairs of complexes have different identifiers but the same components with the same stoichiometric coefficients and the same cellular location? <a class=\"anchor\" id=\"query17\"></a>"
   ]
  },
  {
   "cell_type": "code",
   "execution_count": 22,
   "id": "787ec78d",
   "metadata": {},
   "outputs": [
    {
     "data": {
      "text/html": [
       "<div>\n",
       "<style scoped>\n",
       "    .dataframe tbody tr th:only-of-type {\n",
       "        vertical-align: middle;\n",
       "    }\n",
       "\n",
       "    .dataframe tbody tr th {\n",
       "        vertical-align: top;\n",
       "    }\n",
       "\n",
       "    .dataframe thead th {\n",
       "        text-align: right;\n",
       "    }\n",
       "</style>\n",
       "<table border=\"1\" class=\"dataframe\">\n",
       "  <thead>\n",
       "    <tr style=\"text-align: right;\">\n",
       "      <th></th>\n",
       "      <th>complex1</th>\n",
       "      <th>complex2</th>\n",
       "      <th>loc1</th>\n",
       "    </tr>\n",
       "  </thead>\n",
       "  <tbody>\n",
       "    <tr>\n",
       "      <th>0</th>\n",
       "      <td>http://www.reactome.org/biopax/81/49646#Complex1353</td>\n",
       "      <td>http://www.reactome.org/biopax/81/49646#Complex1354</td>\n",
       "      <td>http://www.reactome.org/biopax/81/49646#CellularLocationVocabulary10</td>\n",
       "    </tr>\n",
       "    <tr>\n",
       "      <th>1</th>\n",
       "      <td>http://www.reactome.org/biopax/81/49646#Complex2336</td>\n",
       "      <td>http://www.reactome.org/biopax/81/49646#Complex6277</td>\n",
       "      <td>http://www.reactome.org/biopax/81/49646#CellularLocationVocabulary15</td>\n",
       "    </tr>\n",
       "    <tr>\n",
       "      <th>2</th>\n",
       "      <td>http://www.reactome.org/biopax/81/49646#Complex2371</td>\n",
       "      <td>http://www.reactome.org/biopax/81/49646#Complex4242</td>\n",
       "      <td>http://www.reactome.org/biopax/81/49646#CellularLocationVocabulary1</td>\n",
       "    </tr>\n",
       "    <tr>\n",
       "      <th>3</th>\n",
       "      <td>http://www.reactome.org/biopax/81/49646#Complex2512</td>\n",
       "      <td>http://www.reactome.org/biopax/81/49646#Complex2522</td>\n",
       "      <td>http://www.reactome.org/biopax/81/49646#CellularLocationVocabulary10</td>\n",
       "    </tr>\n",
       "    <tr>\n",
       "      <th>4</th>\n",
       "      <td>http://www.reactome.org/biopax/81/49646#Complex2520</td>\n",
       "      <td>http://www.reactome.org/biopax/81/49646#Complex2535</td>\n",
       "      <td>http://www.reactome.org/biopax/81/49646#CellularLocationVocabulary10</td>\n",
       "    </tr>\n",
       "    <tr>\n",
       "      <th>5</th>\n",
       "      <td>http://www.reactome.org/biopax/81/49646#Complex447</td>\n",
       "      <td>http://www.reactome.org/biopax/81/49646#Complex448</td>\n",
       "      <td>http://www.reactome.org/biopax/81/49646#CellularLocationVocabulary1</td>\n",
       "    </tr>\n",
       "    <tr>\n",
       "      <th>6</th>\n",
       "      <td>http://www.reactome.org/biopax/81/49646#Complex7055</td>\n",
       "      <td>http://www.reactome.org/biopax/81/49646#Complex7849</td>\n",
       "      <td>http://www.reactome.org/biopax/81/49646#CellularLocationVocabulary2</td>\n",
       "    </tr>\n",
       "    <tr>\n",
       "      <th>7</th>\n",
       "      <td>http://www.reactome.org/biopax/81/49646#Complex7192</td>\n",
       "      <td>http://www.reactome.org/biopax/81/49646#Complex7195</td>\n",
       "      <td>http://www.reactome.org/biopax/81/49646#CellularLocationVocabulary92</td>\n",
       "    </tr>\n",
       "    <tr>\n",
       "      <th>8</th>\n",
       "      <td>http://www.reactome.org/biopax/81/49646#Complex791</td>\n",
       "      <td>http://www.reactome.org/biopax/81/49646#Complex804</td>\n",
       "      <td>http://www.reactome.org/biopax/81/49646#CellularLocationVocabulary26</td>\n",
       "    </tr>\n",
       "    <tr>\n",
       "      <th>9</th>\n",
       "      <td>http://www.reactome.org/biopax/81/49646#Complex792</td>\n",
       "      <td>http://www.reactome.org/biopax/81/49646#Complex803</td>\n",
       "      <td>http://www.reactome.org/biopax/81/49646#CellularLocationVocabulary29</td>\n",
       "    </tr>\n",
       "    <tr>\n",
       "      <th>10</th>\n",
       "      <td>http://www.reactome.org/biopax/81/49646#Complex8111</td>\n",
       "      <td>http://www.reactome.org/biopax/81/49646#Complex8113</td>\n",
       "      <td>http://www.reactome.org/biopax/81/49646#CellularLocationVocabulary10</td>\n",
       "    </tr>\n",
       "    <tr>\n",
       "      <th>11</th>\n",
       "      <td>http://www.reactome.org/biopax/81/49646#Complex8580</td>\n",
       "      <td>http://www.reactome.org/biopax/81/49646#Complex8585</td>\n",
       "      <td>http://www.reactome.org/biopax/81/49646#CellularLocationVocabulary1</td>\n",
       "    </tr>\n",
       "  </tbody>\n",
       "</table>\n",
       "</div>"
      ],
      "text/plain": [
       "                                               complex1  \\\n",
       "0   http://www.reactome.org/biopax/81/49646#Complex1353   \n",
       "1   http://www.reactome.org/biopax/81/49646#Complex2336   \n",
       "2   http://www.reactome.org/biopax/81/49646#Complex2371   \n",
       "3   http://www.reactome.org/biopax/81/49646#Complex2512   \n",
       "4   http://www.reactome.org/biopax/81/49646#Complex2520   \n",
       "5    http://www.reactome.org/biopax/81/49646#Complex447   \n",
       "6   http://www.reactome.org/biopax/81/49646#Complex7055   \n",
       "7   http://www.reactome.org/biopax/81/49646#Complex7192   \n",
       "8    http://www.reactome.org/biopax/81/49646#Complex791   \n",
       "9    http://www.reactome.org/biopax/81/49646#Complex792   \n",
       "10  http://www.reactome.org/biopax/81/49646#Complex8111   \n",
       "11  http://www.reactome.org/biopax/81/49646#Complex8580   \n",
       "\n",
       "                                               complex2  \\\n",
       "0   http://www.reactome.org/biopax/81/49646#Complex1354   \n",
       "1   http://www.reactome.org/biopax/81/49646#Complex6277   \n",
       "2   http://www.reactome.org/biopax/81/49646#Complex4242   \n",
       "3   http://www.reactome.org/biopax/81/49646#Complex2522   \n",
       "4   http://www.reactome.org/biopax/81/49646#Complex2535   \n",
       "5    http://www.reactome.org/biopax/81/49646#Complex448   \n",
       "6   http://www.reactome.org/biopax/81/49646#Complex7849   \n",
       "7   http://www.reactome.org/biopax/81/49646#Complex7195   \n",
       "8    http://www.reactome.org/biopax/81/49646#Complex804   \n",
       "9    http://www.reactome.org/biopax/81/49646#Complex803   \n",
       "10  http://www.reactome.org/biopax/81/49646#Complex8113   \n",
       "11  http://www.reactome.org/biopax/81/49646#Complex8585   \n",
       "\n",
       "                                                                    loc1  \n",
       "0   http://www.reactome.org/biopax/81/49646#CellularLocationVocabulary10  \n",
       "1   http://www.reactome.org/biopax/81/49646#CellularLocationVocabulary15  \n",
       "2    http://www.reactome.org/biopax/81/49646#CellularLocationVocabulary1  \n",
       "3   http://www.reactome.org/biopax/81/49646#CellularLocationVocabulary10  \n",
       "4   http://www.reactome.org/biopax/81/49646#CellularLocationVocabulary10  \n",
       "5    http://www.reactome.org/biopax/81/49646#CellularLocationVocabulary1  \n",
       "6    http://www.reactome.org/biopax/81/49646#CellularLocationVocabulary2  \n",
       "7   http://www.reactome.org/biopax/81/49646#CellularLocationVocabulary92  \n",
       "8   http://www.reactome.org/biopax/81/49646#CellularLocationVocabulary26  \n",
       "9   http://www.reactome.org/biopax/81/49646#CellularLocationVocabulary29  \n",
       "10  http://www.reactome.org/biopax/81/49646#CellularLocationVocabulary10  \n",
       "11   http://www.reactome.org/biopax/81/49646#CellularLocationVocabulary1  "
      ]
     },
     "execution_count": 22,
     "metadata": {},
     "output_type": "execute_result"
    }
   ],
   "source": [
    "## OD CJ\n",
    "query = \"\"\"\n",
    "# Retrieve redundant complexes i.e. pairs of complexes having different identifiers but the same components with the same stoichiometric coefficients\n",
    "SELECT DISTINCT ?complex1  ?complex2 ?loc1# ?id1 ?id2 #?comp ?stoichioValue1 ?stoichioValue2\n",
    "\n",
    "WHERE {\n",
    "  #VALUES ?complex { reactome:Complex3 reactome:Complex7 reactome:Complex4 reactome:Complex5 reactome:Complex6 reactome:Complex8 reactome:Complex101 reactome:Complex102 }\n",
    "  #VALUES ?complex { reactome:Complex102 }\n",
    "  \n",
    "  ?complex1 rdf:type bp3:Complex .\n",
    "  # ?complex1 and ?complex2 have at least 1 common component (to avoid matching all the pairs of blackbox complexes that do not have any components)\n",
    "  ?complex1 bp3:component ?commonComp .\n",
    "  ?complex2 bp3:component ?commonComp .\n",
    "  ?complex2 rdf:type bp3:Complex .\n",
    "  ?complex1 bp3:cellularLocation ?loc1 .\n",
    "  ?complex2 bp3:cellularLocation ?loc1 .\n",
    "  FILTER (str(?complex1) < str(?complex2))\n",
    "  # ?complex1 and ?complex2 do not have any common component that has different stoichiometric coefficients between the two complexes\n",
    "  FILTER NOT EXISTS {\n",
    "    ?complex1 bp3:component ?comp .\n",
    "    ?complex2 bp3:component ?comp .\n",
    "    #?complex1 bp3:cellularLocation ?loc1 .\n",
    "    ?complex1 bp3:componentStoichiometry ?stoichio1 .\n",
    "    ?stoichio1 bp3:physicalEntity ?comp .\n",
    "    ?stoichio1 bp3:stoichiometricCoefficient ?stoichioValue1 .\n",
    "\n",
    "    ?complex2 bp3:componentStoichiometry ?stoichio2 .\n",
    "    ?stoichio2 bp3:physicalEntity ?comp .\n",
    "    #?complex2 bp3:cellularLocation ?loc2 .\n",
    "    ?stoichio2 bp3:stoichiometricCoefficient ?stoichioValue2 .\n",
    "    FILTER (?stoichioValue1 != ?stoichioValue2)\n",
    "    #FILTER (?loc1 != ?loc2)\n",
    "  }\n",
    "\n",
    "\n",
    "  # all the direct components of ?complex1 are also components of ?complex2\n",
    "  FILTER NOT EXISTS {\n",
    "    ?complex1 bp3:component ?comp1 .\n",
    "    FILTER NOT EXISTS {\n",
    "      ?complex2 bp3:component ?comp1 .\n",
    "    }\n",
    "  }\n",
    "  # all the direct components of ?complex2 are also components of ?complex1\n",
    "  FILTER NOT EXISTS {\n",
    "    ?complex2 bp3:component ?comp2 .\n",
    "    FILTER NOT EXISTS {\n",
    "      ?complex1 bp3:component ?comp2 .\n",
    "    }\n",
    "  }\n",
    " OPTIONAL{ ?complex1 bp3:xref ?xref1 .\n",
    "    ?xref1 bp3:db \"ComplexPortal\" .\n",
    "    ?xref1 bp3:id ?id1 . }\n",
    "  \n",
    "OPTIONAL{ ?complex2 bp3:xref ?xref2 .\n",
    "    ?xref2 bp3:db \"ComplexPortal\" .\n",
    "    ?xref2 bp3:id ?id2 . }\n",
    "}\n",
    "\"\"\"\n",
    "df = sparqldataframe.query(endpointURL, prefixes+query)\n",
    "df"
   ]
  },
  {
   "cell_type": "markdown",
   "id": "25b66364",
   "metadata": {},
   "source": [
    "How many cliques? <a class=\"anchor\" id=\"cliques\"></a>"
   ]
  },
  {
   "cell_type": "code",
   "execution_count": 23,
   "id": "e9f792af",
   "metadata": {},
   "outputs": [
    {
     "data": {
      "text/plain": [
       "12"
      ]
     },
     "execution_count": 23,
     "metadata": {},
     "output_type": "execute_result"
    }
   ],
   "source": [
    "cliques = {df[\"complex1\"][0] : [df[\"complex2\"][0]]}\n",
    "for row in df.itertuples(index=False):\n",
    "    if row[0] in cliques :\n",
    "        cliques[row[0]].append(row[1])\n",
    "    elif row[1] in cliques :\n",
    "        cliques[row[1]].append(row[0])\n",
    "    else :\n",
    "        found = False\n",
    "        for i in cliques :\n",
    "            if row[0] in cliques[i]:\n",
    "                cliques[i].append(row[1])\n",
    "                found = True\n",
    "                break\n",
    "            elif row[1] in cliques[i]:\n",
    "                cliques[i].append(row[0])\n",
    "                found = True\n",
    "                break\n",
    "        if not found :\n",
    "            cliques[row[0]] = list()\n",
    "            cliques[row[0]].append(row[1])\n",
    "       \n",
    "len(cliques) "
   ]
  }
 ],
 "metadata": {
  "kernelspec": {
   "display_name": "Python 3",
   "language": "python",
   "name": "python3"
  },
  "language_info": {
   "codemirror_mode": {
    "name": "ipython",
    "version": 3
   },
   "file_extension": ".py",
   "mimetype": "text/x-python",
   "name": "python",
   "nbconvert_exporter": "python",
   "pygments_lexer": "ipython3",
   "version": "3.8.8"
  }
 },
 "nbformat": 4,
 "nbformat_minor": 5
}
