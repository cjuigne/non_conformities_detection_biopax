{
 "cells": [
  {
   "cell_type": "markdown",
   "id": "f33dc50e",
   "metadata": {},
   "source": []
  },
  {
   "cell_type": "markdown",
   "id": "5ddbd4da",
   "metadata": {},
   "source": [
    "## Table of contents:\n",
    "* [Set env](#set_env)\n",
    "* [General information on Reactome biopax file](#general_reactome)\n",
    "    * [Query 1: Number of elements for each biopax types](#query1)\n",
    "* [Complexes](#complexes)\n",
    "    * [Complexes in BioPAX specifications](#complexes_in_biopax)\n",
    "    * [Complexes in Reactome](#complex_reactome)\n",
    "        * [Summary](#summary)\n",
    "        * [Query 2: How many black-box complexes?](#query2) \n",
    "        * [Query 3: How many complexes have at least one component? ](#query3)\n",
    "        * [Query 4: How many complexes have at least one component that is a complex? ](#query4)\n",
    "        * [Query 5: How many complexes have at least one component, none of which is a complex? ](#query5)\n",
    "        * [Query 6: How many complexes have at least one component that is a blackbox complex ](#query6)\n",
    "        * [Query 7: How many complexes have at least one component that is a complex, and all its components that are complexes are actually black box complexes? ](#query7)\n",
    "        * [Query 8: How many complexes have at least one component that is a complex, but not a black-box complex? ](#query8)\n",
    "        * [Query 9: How many complexes, that are not black boxes, are a component of at least another complex? ](#query9)\n",
    "        * [Query 10: Distribution of the number of direct components by complex ](#query10)  \n",
    "        * [Query 11: Distribution of the number of complexes a complex is a component of](#query11)\n",
    "        * [Query 12:  How many interactions directly involve an invalid complex? ?](#query12)\n",
    "        * [Query 13: How many different components are involved in the invalid complexes?](#query13)\n",
    "        * [Query 14: How many interactions directly involve a component of an invalid complex?](#query14)\n",
    "        * [Query 15: How many interactions involve a complex having a direct component that is a component of an invalid complex?](#query15)\n",
    "        * [Query 16: How many interactions directly and indirectly involve these components?](#query16)\n",
    "\n",
    "    * [Identify the redundant complexes](#identify_redundant)\n",
    "        * [Query 17: How many pairs of complexes have different identifiers but the same components with the same stoichiometric coefficients and the same cellular localisation?](#query17)\n",
    "        * [How many cliques?](#cliques)\n",
    "\n",
    "    * [Fix the invalid complexes](#fix_complexes)      \n",
    "        \n",
    "        "
   ]
  },
  {
   "cell_type": "markdown",
   "id": "9f60ede5",
   "metadata": {},
   "source": [
    "### Environment <a class=\"anchor\" id=\"set_env\"></a>"
   ]
  },
  {
   "cell_type": "code",
   "execution_count": 1,
   "id": "fdb3bc6d",
   "metadata": {},
   "outputs": [],
   "source": [
    "import importlib\n",
    "import json\n",
    "import matplotlib.pyplot as plt\n",
    "import os\n",
    "import pandas\n",
    "import rdflib\n",
    "import rdflib.namespace\n",
    "import sparqldataframe\n",
    "import seaborn as sns\n",
    "from SPARQLWrapper import SPARQLWrapper, JSON\n",
    "import sys\n",
    "\n",
    "import time\n",
    "import jwt\n",
    "import pathlib\n",
    "\n",
    "import uri_utils\n",
    "import complexComponents"
   ]
  },
  {
   "cell_type": "code",
   "execution_count": 2,
   "id": "52f98f4e",
   "metadata": {},
   "outputs": [],
   "source": [
    "reactomeVersion = 81\n",
    "species = 170928\n",
    "# species = \n",
    "\n",
    "endpointURL = \"http://localhost:3030/REACTOME_PFALCIPARUM/query\"\n",
    "rdfFormat = \"turtle\"\n",
    "\n",
    "workspace = \".\"\n",
    "path_results = workspace+'/results-'+str(reactomeVersion)+'-'+str(species)\n",
    "if not os.path.exists(path_results) :\n",
    "  os.makedirs(path_results)\n",
    "\n",
    "prefixesDict = uri_utils.readPrefixesFromFile(\"defaultPrefixes-release\" + \n",
    "                                              str(reactomeVersion) + \".json\")\n"
   ]
  },
  {
   "cell_type": "code",
   "execution_count": 3,
   "id": "1523ea37",
   "metadata": {},
   "outputs": [],
   "source": [
    "prefixes = \"\"\"\n",
    "PREFIX rdf: <http://www.w3.org/1999/02/22-rdf-syntax-ns#>\n",
    "PREFIX rdfs:<http://www.w3.org/2000/01/rdf-schema#>\n",
    "PREFIX owl: <http://www.w3.org/2002/07/owl#>\n",
    "PREFIX xsd: <http://www.w3.org/2001/XMLSchema#>\n",
    "\n",
    "PREFIX dc: <http://purl.org/dc/elements/1.1/>\n",
    "PREFIX dcterms: <http://purl.org/dc/terms/>\n",
    "\n",
    "PREFIX chebi: <http://purl.obolibrary.org/obo/chebi/>\n",
    "PREFIX chebidb: <http://purl.obolibrary.org/obo/CHEBI_>\n",
    "PREFIX chebirel: <http://purl.obolibrary.org/obo/CHEBI#>\n",
    "\n",
    "PREFIX up:<http://purl.uniprot.org/core/>\n",
    "PREFIX udb: <http://purl.uniprot.org/database/>\n",
    "PREFIX uniprot: <http://purl.uniprot.org/uniprot/>\n",
    "\n",
    "PREFIX bp3: <http://www.biopax.org/release/biopax-level3.owl#>\n",
    "PREFIX reactome: <http://www.reactome.org/biopax/\"\"\" + str(reactomeVersion)+\"\"\"/\"\"\"+str(species)+\"\"\"#>\n",
    "\"\"\""
   ]
  },
  {
   "cell_type": "markdown",
   "id": "94f508d9",
   "metadata": {},
   "source": [
    "### General information on the dataset (Reactome Biopax Homo Sapiens v79) <a class=\"anchor\" id=\"general_reactome\"></a>"
   ]
  },
  {
   "cell_type": "markdown",
   "id": "4a9d5562",
   "metadata": {},
   "source": [
    "Query 1: Number of elements for each biopax types <a class=\"anchor\" id=\"query1\"></a>"
   ]
  },
  {
   "cell_type": "code",
   "execution_count": 4,
   "id": "2a12231d",
   "metadata": {
    "scrolled": true
   },
   "outputs": [
    {
     "data": {
      "text/html": [
       "<div>\n",
       "<style scoped>\n",
       "    .dataframe tbody tr th:only-of-type {\n",
       "        vertical-align: middle;\n",
       "    }\n",
       "\n",
       "    .dataframe tbody tr th {\n",
       "        vertical-align: top;\n",
       "    }\n",
       "\n",
       "    .dataframe thead th {\n",
       "        text-align: right;\n",
       "    }\n",
       "</style>\n",
       "<table border=\"1\" class=\"dataframe\">\n",
       "  <thead>\n",
       "    <tr style=\"text-align: right;\">\n",
       "      <th></th>\n",
       "      <th>type</th>\n",
       "      <th>nb_elements</th>\n",
       "    </tr>\n",
       "  </thead>\n",
       "  <tbody>\n",
       "    <tr>\n",
       "      <th>0</th>\n",
       "      <td>http://www.biopax.org/release/biopax-level3.owl#UnificationXref</td>\n",
       "      <td>15257</td>\n",
       "    </tr>\n",
       "    <tr>\n",
       "      <th>1</th>\n",
       "      <td>http://www.biopax.org/release/biopax-level3.owl#SequenceSite</td>\n",
       "      <td>5250</td>\n",
       "    </tr>\n",
       "    <tr>\n",
       "      <th>2</th>\n",
       "      <td>http://www.biopax.org/release/biopax-level3.owl#PublicationXref</td>\n",
       "      <td>4481</td>\n",
       "    </tr>\n",
       "    <tr>\n",
       "      <th>3</th>\n",
       "      <td>http://www.biopax.org/release/biopax-level3.owl#Protein</td>\n",
       "      <td>2909</td>\n",
       "    </tr>\n",
       "    <tr>\n",
       "      <th>4</th>\n",
       "      <td>http://www.biopax.org/release/biopax-level3.owl#FragmentFeature</td>\n",
       "      <td>2439</td>\n",
       "    </tr>\n",
       "    <tr>\n",
       "      <th>5</th>\n",
       "      <td>http://www.biopax.org/release/biopax-level3.owl#SequenceInterval</td>\n",
       "      <td>2439</td>\n",
       "    </tr>\n",
       "    <tr>\n",
       "      <th>6</th>\n",
       "      <td>http://www.biopax.org/release/biopax-level3.owl#Stoichiometry</td>\n",
       "      <td>2264</td>\n",
       "    </tr>\n",
       "    <tr>\n",
       "      <th>7</th>\n",
       "      <td>http://www.biopax.org/release/biopax-level3.owl#RelationshipXref</td>\n",
       "      <td>1776</td>\n",
       "    </tr>\n",
       "    <tr>\n",
       "      <th>8</th>\n",
       "      <td>http://www.biopax.org/release/biopax-level3.owl#Evidence</td>\n",
       "      <td>1445</td>\n",
       "    </tr>\n",
       "    <tr>\n",
       "      <th>9</th>\n",
       "      <td>http://www.biopax.org/release/biopax-level3.owl#PathwayStep</td>\n",
       "      <td>1419</td>\n",
       "    </tr>\n",
       "    <tr>\n",
       "      <th>10</th>\n",
       "      <td>http://www.biopax.org/release/biopax-level3.owl#SmallMolecule</td>\n",
       "      <td>1182</td>\n",
       "    </tr>\n",
       "    <tr>\n",
       "      <th>11</th>\n",
       "      <td>http://www.biopax.org/release/biopax-level3.owl#ProteinReference</td>\n",
       "      <td>914</td>\n",
       "    </tr>\n",
       "    <tr>\n",
       "      <th>12</th>\n",
       "      <td>http://www.biopax.org/release/biopax-level3.owl#Complex</td>\n",
       "      <td>875</td>\n",
       "    </tr>\n",
       "    <tr>\n",
       "      <th>13</th>\n",
       "      <td>http://www.biopax.org/release/biopax-level3.owl#BiochemicalReaction</td>\n",
       "      <td>848</td>\n",
       "    </tr>\n",
       "    <tr>\n",
       "      <th>14</th>\n",
       "      <td>http://www.biopax.org/release/biopax-level3.owl#SmallMoleculeReference</td>\n",
       "      <td>682</td>\n",
       "    </tr>\n",
       "    <tr>\n",
       "      <th>15</th>\n",
       "      <td>http://www.biopax.org/release/biopax-level3.owl#Catalysis</td>\n",
       "      <td>604</td>\n",
       "    </tr>\n",
       "    <tr>\n",
       "      <th>16</th>\n",
       "      <td>http://www.biopax.org/release/biopax-level3.owl#Pathway</td>\n",
       "      <td>595</td>\n",
       "    </tr>\n",
       "    <tr>\n",
       "      <th>17</th>\n",
       "      <td>http://www.biopax.org/release/biopax-level3.owl#ModificationFeature</td>\n",
       "      <td>409</td>\n",
       "    </tr>\n",
       "    <tr>\n",
       "      <th>18</th>\n",
       "      <td>http://www.biopax.org/release/biopax-level3.owl#PhysicalEntity</td>\n",
       "      <td>337</td>\n",
       "    </tr>\n",
       "    <tr>\n",
       "      <th>19</th>\n",
       "      <td>http://www.biopax.org/release/biopax-level3.owl#CellularLocationVocabulary</td>\n",
       "      <td>59</td>\n",
       "    </tr>\n",
       "    <tr>\n",
       "      <th>20</th>\n",
       "      <td>http://www.biopax.org/release/biopax-level3.owl#Control</td>\n",
       "      <td>48</td>\n",
       "    </tr>\n",
       "    <tr>\n",
       "      <th>21</th>\n",
       "      <td>http://www.biopax.org/release/biopax-level3.owl#SequenceModificationVocabulary</td>\n",
       "      <td>39</td>\n",
       "    </tr>\n",
       "    <tr>\n",
       "      <th>22</th>\n",
       "      <td>http://www.biopax.org/release/biopax-level3.owl#RelationshipTypeVocabulary</td>\n",
       "      <td>4</td>\n",
       "    </tr>\n",
       "    <tr>\n",
       "      <th>23</th>\n",
       "      <td>http://www.biopax.org/release/biopax-level3.owl#TemplateReaction</td>\n",
       "      <td>2</td>\n",
       "    </tr>\n",
       "    <tr>\n",
       "      <th>24</th>\n",
       "      <td>http://www.biopax.org/release/biopax-level3.owl#BioSource</td>\n",
       "      <td>1</td>\n",
       "    </tr>\n",
       "    <tr>\n",
       "      <th>25</th>\n",
       "      <td>http://www.biopax.org/release/biopax-level3.owl#EvidenceCodeVocabulary</td>\n",
       "      <td>1</td>\n",
       "    </tr>\n",
       "    <tr>\n",
       "      <th>26</th>\n",
       "      <td>http://www.biopax.org/release/biopax-level3.owl#Provenance</td>\n",
       "      <td>1</td>\n",
       "    </tr>\n",
       "  </tbody>\n",
       "</table>\n",
       "</div>"
      ],
      "text/plain": [
       "                                                                              type  \\\n",
       "0                  http://www.biopax.org/release/biopax-level3.owl#UnificationXref   \n",
       "1                     http://www.biopax.org/release/biopax-level3.owl#SequenceSite   \n",
       "2                  http://www.biopax.org/release/biopax-level3.owl#PublicationXref   \n",
       "3                          http://www.biopax.org/release/biopax-level3.owl#Protein   \n",
       "4                  http://www.biopax.org/release/biopax-level3.owl#FragmentFeature   \n",
       "5                 http://www.biopax.org/release/biopax-level3.owl#SequenceInterval   \n",
       "6                    http://www.biopax.org/release/biopax-level3.owl#Stoichiometry   \n",
       "7                 http://www.biopax.org/release/biopax-level3.owl#RelationshipXref   \n",
       "8                         http://www.biopax.org/release/biopax-level3.owl#Evidence   \n",
       "9                      http://www.biopax.org/release/biopax-level3.owl#PathwayStep   \n",
       "10                   http://www.biopax.org/release/biopax-level3.owl#SmallMolecule   \n",
       "11                http://www.biopax.org/release/biopax-level3.owl#ProteinReference   \n",
       "12                         http://www.biopax.org/release/biopax-level3.owl#Complex   \n",
       "13             http://www.biopax.org/release/biopax-level3.owl#BiochemicalReaction   \n",
       "14          http://www.biopax.org/release/biopax-level3.owl#SmallMoleculeReference   \n",
       "15                       http://www.biopax.org/release/biopax-level3.owl#Catalysis   \n",
       "16                         http://www.biopax.org/release/biopax-level3.owl#Pathway   \n",
       "17             http://www.biopax.org/release/biopax-level3.owl#ModificationFeature   \n",
       "18                  http://www.biopax.org/release/biopax-level3.owl#PhysicalEntity   \n",
       "19      http://www.biopax.org/release/biopax-level3.owl#CellularLocationVocabulary   \n",
       "20                         http://www.biopax.org/release/biopax-level3.owl#Control   \n",
       "21  http://www.biopax.org/release/biopax-level3.owl#SequenceModificationVocabulary   \n",
       "22      http://www.biopax.org/release/biopax-level3.owl#RelationshipTypeVocabulary   \n",
       "23                http://www.biopax.org/release/biopax-level3.owl#TemplateReaction   \n",
       "24                       http://www.biopax.org/release/biopax-level3.owl#BioSource   \n",
       "25          http://www.biopax.org/release/biopax-level3.owl#EvidenceCodeVocabulary   \n",
       "26                      http://www.biopax.org/release/biopax-level3.owl#Provenance   \n",
       "\n",
       "   nb_elements  \n",
       "0        15257  \n",
       "1         5250  \n",
       "2         4481  \n",
       "3         2909  \n",
       "4         2439  \n",
       "5         2439  \n",
       "6         2264  \n",
       "7         1776  \n",
       "8         1445  \n",
       "9         1419  \n",
       "10        1182  \n",
       "11         914  \n",
       "12         875  \n",
       "13         848  \n",
       "14         682  \n",
       "15         604  \n",
       "16         595  \n",
       "17         409  \n",
       "18         337  \n",
       "19          59  \n",
       "20          48  \n",
       "21          39  \n",
       "22           4  \n",
       "23           2  \n",
       "24           1  \n",
       "25           1  \n",
       "26           1  "
      ]
     },
     "execution_count": 4,
     "metadata": {},
     "output_type": "execute_result"
    }
   ],
   "source": [
    "## Reactome - initial file\n",
    "## Version xml:base=\"http://www.reactome.org/biopax/79/48887#\"> (2022-02-03)\n",
    "\n",
    "## Number of elements for each biopax types\n",
    "query=\"\"\"\n",
    "# Number of elements for each biopax types in reactome\n",
    "SELECT ?type (COUNT(DISTINCT(?element)) AS ?nb_elements)\n",
    "WHERE {\n",
    "  ?element a ?type.\n",
    "  FILTER(STRSTARTS(STR(?type),str(bp3:)) )\n",
    "}\n",
    "GROUP BY ?type\n",
    "ORDER BY DESC (?nb_elements)\n",
    "\"\"\"\n",
    "pandas.set_option(\"max_colwidth\", 80)\n",
    "df = sparqldataframe.query(endpointURL, prefixes+query)\n",
    "df"
   ]
  },
  {
   "cell_type": "markdown",
   "id": "19b31928",
   "metadata": {},
   "source": [
    "### Complexes <a class=\"anchor\" id=\"complexes\"></a>\n",
    "\n",
    "#### Complexes in BioPAX specifications <a class=\"anchor\" id=\"complexes_in_biopax\"></a>\n",
    "\n",
    "- **Complex** (BioPAX-level3 page 48)\n",
    "    - physical product of an interaction\n",
    "    - **complexes should not be defined recursively** (a complex should not be a component of another complex)\n",
    "    - **exceptions are black box complexes** i.e. complexes in which the component property is empty\n",
    "    - the `bp3:component` property\n",
    "        - has domain: `bp3:Complex`\n",
    "        - has range: `bp3:PhysicalEntity`, which subclasses are:\n",
    "            - `bp3:Dna`\n",
    "            - `bp3:Rna`\n",
    "            - `bp3:Protein`\n",
    "            - `bp3:Complex` warning: black box complexes only!\n",
    "            - `bp3:SmallMolecule`\n",
    "- **Black box complex**\n",
    "- **Redundant complexes** are complexes having different identifiers, possibly from different databases but having the same chemical and physical properties\n",
    "    - redundant complexes form equivalence classes"
   ]
  },
  {
   "cell_type": "markdown",
   "id": "dc6109c0",
   "metadata": {},
   "source": [
    "#### Complexes in Reactome <a class=\"anchor\" id=\"complex_reactome\"></a>\n",
    "![](./2022_03_09_Complex_Biopax.png)"
   ]
  },
  {
   "cell_type": "markdown",
   "id": "12056ddd",
   "metadata": {},
   "source": [
    "#### Summary <a class=\"anchor\" id=\"summary\"></a>\n",
    "- complexes: 14840\n",
    "- black box complexes: 858\n",
    "- complexes that have at least one component: 13982\n",
    "    - (complexes that are not black box complexes)\n",
    "    - control: 14840-858=13982\n",
    "    - they have up to 65 direct components\n",
    "- complexes that have at least one component that is a complex: 6249\n",
    "    - might be ok if all these components are black box complexes\n",
    "    - 44.7% of 13982 \n",
    "    - 42.1% of 14776 \n",
    "    - control: complexes that have at least one component, none of which is a complex: 7733 (13982-6249=7733)\n",
    "- complexes that have at least one component that is a black box complex: ~739~ 737\n",
    "    - 11.8% of 6249 \n",
    "- complexes that have at least one component that is a complex, and all its components that are complexes are actually black box complexes: ~517~ 515 \n",
    "    - was expecting more, ideally 6249 \n",
    "    - 8.2% of 6249 \n",
    "- complexes that have at least one component that is a complex but not a black box complex: ~5710~ 5734\n",
    "    - **these complexes should be fixed**\n",
    "    - 38.6% of 14840\n",
    "    - 41% of 13982\n",
    "- complexes that are not black boxes but are a component of at least another complex: 4333\n",
    "    - **they are the ones to look at for fixing the 5734**\n",
    "    - they can be valid (i.e. all their components that are complexes are black box complexes) or invalid\n",
    "    - they can be involved in chemical reactions (and therefore we should keep them, possibly after making them compliant and after detecting redundancies) or not (and these we can probably discard)\n",
    "    -  ~1032~  of them are the direct component of more than one complex (max = direct component of 65 complexes)"
   ]
  },
  {
   "cell_type": "markdown",
   "id": "459c7ae1",
   "metadata": {},
   "source": [
    "Query 2: How many black-box complexes? <a class=\"anchor\" id=\"query2\"></a>"
   ]
  },
  {
   "cell_type": "code",
   "execution_count": 5,
   "id": "255fe143",
   "metadata": {},
   "outputs": [
    {
     "data": {
      "text/html": [
       "<div>\n",
       "<style scoped>\n",
       "    .dataframe tbody tr th:only-of-type {\n",
       "        vertical-align: middle;\n",
       "    }\n",
       "\n",
       "    .dataframe tbody tr th {\n",
       "        vertical-align: top;\n",
       "    }\n",
       "\n",
       "    .dataframe thead th {\n",
       "        text-align: right;\n",
       "    }\n",
       "</style>\n",
       "<table border=\"1\" class=\"dataframe\">\n",
       "  <thead>\n",
       "    <tr style=\"text-align: right;\">\n",
       "      <th></th>\n",
       "      <th>nbComplexesBB</th>\n",
       "    </tr>\n",
       "  </thead>\n",
       "  <tbody>\n",
       "    <tr>\n",
       "      <th>0</th>\n",
       "      <td>47</td>\n",
       "    </tr>\n",
       "  </tbody>\n",
       "</table>\n",
       "</div>"
      ],
      "text/plain": [
       "  nbComplexesBB\n",
       "0            47"
      ]
     },
     "execution_count": 5,
     "metadata": {},
     "output_type": "execute_result"
    }
   ],
   "source": [
    "## OD\n",
    "query=\"\"\"\n",
    "# Blackbox complexes\n",
    "\n",
    "SELECT (COUNT(DISTINCT ?complexBB) AS ?nbComplexesBB)\n",
    "WHERE {\n",
    "  ?complexBB rdf:type bp3:Complex .\n",
    "  FILTER NOT EXISTS {\n",
    "    ?complexBB bp3:component ?complexComponent . \n",
    "  }\n",
    "}\"\"\"\n",
    "\n",
    "df = sparqldataframe.query(endpointURL, prefixes+query)\n",
    "df"
   ]
  },
  {
   "cell_type": "markdown",
   "id": "4e74975f",
   "metadata": {},
   "source": [
    "Query 3: How many complexes have at least one component? <a class=\"anchor\" id=\"query3\"></a>"
   ]
  },
  {
   "cell_type": "code",
   "execution_count": 6,
   "id": "8059f76c",
   "metadata": {},
   "outputs": [
    {
     "data": {
      "text/html": [
       "<div>\n",
       "<style scoped>\n",
       "    .dataframe tbody tr th:only-of-type {\n",
       "        vertical-align: middle;\n",
       "    }\n",
       "\n",
       "    .dataframe tbody tr th {\n",
       "        vertical-align: top;\n",
       "    }\n",
       "\n",
       "    .dataframe thead th {\n",
       "        text-align: right;\n",
       "    }\n",
       "</style>\n",
       "<table border=\"1\" class=\"dataframe\">\n",
       "  <thead>\n",
       "    <tr style=\"text-align: right;\">\n",
       "      <th></th>\n",
       "      <th>nbComplexes</th>\n",
       "    </tr>\n",
       "  </thead>\n",
       "  <tbody>\n",
       "    <tr>\n",
       "      <th>0</th>\n",
       "      <td>828</td>\n",
       "    </tr>\n",
       "  </tbody>\n",
       "</table>\n",
       "</div>"
      ],
      "text/plain": [
       "  nbComplexes\n",
       "0         828"
      ]
     },
     "execution_count": 6,
     "metadata": {},
     "output_type": "execute_result"
    }
   ],
   "source": [
    "## OD\n",
    "query=\"\"\"\n",
    "# Complexes that have at least one component\n",
    "# i.e. complexes that are not blackbox complexes\n",
    "\n",
    "SELECT (COUNT(DISTINCT ?complex) AS ?nbComplexes)\n",
    "WHERE {\n",
    "  ?complex rdf:type bp3:Complex .\n",
    "  ?complex bp3:component ?complexComponent . \n",
    "}\"\"\"\n",
    "\n",
    "df = sparqldataframe.query(endpointURL, prefixes+query)\n",
    "df"
   ]
  },
  {
   "cell_type": "markdown",
   "id": "33d1eda0",
   "metadata": {},
   "source": [
    "Query 4: How many complexes have at least one component that is a complex? <a class=\"anchor\" id=\"query4\"></a>"
   ]
  },
  {
   "cell_type": "code",
   "execution_count": 7,
   "id": "dad28944",
   "metadata": {},
   "outputs": [
    {
     "data": {
      "text/html": [
       "<div>\n",
       "<style scoped>\n",
       "    .dataframe tbody tr th:only-of-type {\n",
       "        vertical-align: middle;\n",
       "    }\n",
       "\n",
       "    .dataframe tbody tr th {\n",
       "        vertical-align: top;\n",
       "    }\n",
       "\n",
       "    .dataframe thead th {\n",
       "        text-align: right;\n",
       "    }\n",
       "</style>\n",
       "<table border=\"1\" class=\"dataframe\">\n",
       "  <thead>\n",
       "    <tr style=\"text-align: right;\">\n",
       "      <th></th>\n",
       "      <th>nbComplexes</th>\n",
       "    </tr>\n",
       "  </thead>\n",
       "  <tbody>\n",
       "    <tr>\n",
       "      <th>0</th>\n",
       "      <td>277</td>\n",
       "    </tr>\n",
       "  </tbody>\n",
       "</table>\n",
       "</div>"
      ],
      "text/plain": [
       "  nbComplexes\n",
       "0         277"
      ]
     },
     "execution_count": 7,
     "metadata": {},
     "output_type": "execute_result"
    }
   ],
   "source": [
    "## OD\n",
    "query=\"\"\"\n",
    "# Complexes that have at least one component that is a complex\n",
    "\n",
    "SELECT (COUNT(DISTINCT ?complex) AS ?nbComplexes)\n",
    "WHERE {\n",
    "  ?complex rdf:type bp3:Complex .\n",
    "  ?complex bp3:component ?complexComponent . \n",
    "  ?complexComponent rdf:type bp3:Complex .\n",
    "}\"\"\"\n",
    "\n",
    "df = sparqldataframe.query(endpointURL, prefixes+query)\n",
    "df"
   ]
  },
  {
   "cell_type": "markdown",
   "id": "12e64168",
   "metadata": {},
   "source": [
    "Query 5: How many complexes have at least one component, none of which is a complex? <a class=\"anchor\" id=\"query5\"></a>"
   ]
  },
  {
   "cell_type": "code",
   "execution_count": 8,
   "id": "88fc2068",
   "metadata": {},
   "outputs": [
    {
     "data": {
      "text/html": [
       "<div>\n",
       "<style scoped>\n",
       "    .dataframe tbody tr th:only-of-type {\n",
       "        vertical-align: middle;\n",
       "    }\n",
       "\n",
       "    .dataframe tbody tr th {\n",
       "        vertical-align: top;\n",
       "    }\n",
       "\n",
       "    .dataframe thead th {\n",
       "        text-align: right;\n",
       "    }\n",
       "</style>\n",
       "<table border=\"1\" class=\"dataframe\">\n",
       "  <thead>\n",
       "    <tr style=\"text-align: right;\">\n",
       "      <th></th>\n",
       "      <th>nbComplexes</th>\n",
       "    </tr>\n",
       "  </thead>\n",
       "  <tbody>\n",
       "    <tr>\n",
       "      <th>0</th>\n",
       "      <td>551</td>\n",
       "    </tr>\n",
       "  </tbody>\n",
       "</table>\n",
       "</div>"
      ],
      "text/plain": [
       "  nbComplexes\n",
       "0         551"
      ]
     },
     "execution_count": 8,
     "metadata": {},
     "output_type": "execute_result"
    }
   ],
   "source": [
    "## OD\n",
    "query=\"\"\"\n",
    "# Complexes that have at least one component, none of which is a complex\n",
    "\n",
    "SELECT (COUNT(DISTINCT ?complex) AS ?nbComplexes)\n",
    "WHERE {\n",
    "  ?complex rdf:type bp3:Complex .\n",
    "  ?complex bp3:component ?complexComponent . \n",
    "  FILTER NOT EXISTS {\n",
    "    ?complex bp3:component ?someComplexComponent . \n",
    "    ?someComplexComponent rdf:type bp3:Complex .\n",
    "  }\n",
    "}\"\"\"\n",
    "\n",
    "df = sparqldataframe.query(endpointURL, prefixes+query)\n",
    "df"
   ]
  },
  {
   "cell_type": "markdown",
   "id": "8ef95d96",
   "metadata": {},
   "source": [
    "Query 6: How many complexes have at least one component that is a blackbox complex  <a class=\"anchor\" id=\"query6\"></a>"
   ]
  },
  {
   "cell_type": "code",
   "execution_count": 9,
   "id": "8cbc7c0f",
   "metadata": {},
   "outputs": [
    {
     "data": {
      "text/html": [
       "<div>\n",
       "<style scoped>\n",
       "    .dataframe tbody tr th:only-of-type {\n",
       "        vertical-align: middle;\n",
       "    }\n",
       "\n",
       "    .dataframe tbody tr th {\n",
       "        vertical-align: top;\n",
       "    }\n",
       "\n",
       "    .dataframe thead th {\n",
       "        text-align: right;\n",
       "    }\n",
       "</style>\n",
       "<table border=\"1\" class=\"dataframe\">\n",
       "  <thead>\n",
       "    <tr style=\"text-align: right;\">\n",
       "      <th></th>\n",
       "      <th>nbComplexes</th>\n",
       "    </tr>\n",
       "  </thead>\n",
       "  <tbody>\n",
       "    <tr>\n",
       "      <th>0</th>\n",
       "      <td>30</td>\n",
       "    </tr>\n",
       "  </tbody>\n",
       "</table>\n",
       "</div>"
      ],
      "text/plain": [
       "  nbComplexes\n",
       "0          30"
      ]
     },
     "execution_count": 9,
     "metadata": {},
     "output_type": "execute_result"
    }
   ],
   "source": [
    "## OD\n",
    "query=\"\"\"\n",
    "# Complexes that have at least one component that is a blackbox complex\n",
    "\n",
    "SELECT (COUNT(DISTINCT ?complex) AS ?nbComplexes)\n",
    "WHERE {\n",
    "  ?complex rdf:type bp3:Complex .\n",
    "  ?complex bp3:component ?complexComponent . \n",
    "  ?complexComponent rdf:type bp3:Complex .\n",
    "  FILTER NOT EXISTS {\n",
    "    ?complexComponent bp3:component ?someComplexComponent . \n",
    "  }\n",
    "}\"\"\"\n",
    "\n",
    "df = sparqldataframe.query(endpointURL, prefixes+query)\n",
    "df"
   ]
  },
  {
   "cell_type": "markdown",
   "id": "03a2e010",
   "metadata": {},
   "source": [
    "Query 7: How many complexes have at least one component that is a complex, and all its components that are complexes are actually black box complexes? <a class=\"anchor\" id=\"query7\"></a>"
   ]
  },
  {
   "cell_type": "code",
   "execution_count": 10,
   "id": "97593c27",
   "metadata": {},
   "outputs": [
    {
     "data": {
      "text/html": [
       "<div>\n",
       "<style scoped>\n",
       "    .dataframe tbody tr th:only-of-type {\n",
       "        vertical-align: middle;\n",
       "    }\n",
       "\n",
       "    .dataframe tbody tr th {\n",
       "        vertical-align: top;\n",
       "    }\n",
       "\n",
       "    .dataframe thead th {\n",
       "        text-align: right;\n",
       "    }\n",
       "</style>\n",
       "<table border=\"1\" class=\"dataframe\">\n",
       "  <thead>\n",
       "    <tr style=\"text-align: right;\">\n",
       "      <th></th>\n",
       "      <th>nbComplexes</th>\n",
       "    </tr>\n",
       "  </thead>\n",
       "  <tbody>\n",
       "    <tr>\n",
       "      <th>0</th>\n",
       "      <td>13</td>\n",
       "    </tr>\n",
       "  </tbody>\n",
       "</table>\n",
       "</div>"
      ],
      "text/plain": [
       "  nbComplexes\n",
       "0          13"
      ]
     },
     "execution_count": 10,
     "metadata": {},
     "output_type": "execute_result"
    }
   ],
   "source": [
    "## OD\n",
    "query=\"\"\"\n",
    "# Complexes that have at least one component that is a complex, \n",
    "# and all its components that are complexes are actually black box complexes\n",
    "\n",
    "SELECT (COUNT(DISTINCT ?complex) AS ?nbComplexes)\n",
    "WHERE {\n",
    "  ?complex rdf:type bp3:Complex .\n",
    "  ?complex bp3:component ?complexComponent . \n",
    "  ?complexComponent rdf:type bp3:Complex .\n",
    "  FILTER NOT EXISTS {\n",
    "    ?complex bp3:component ?someComplexComponent . \n",
    "    ?someComplexComponent rdf:type bp3:Complex .\n",
    "    ?someComplexComponent bp3:component ?someComplexComponentComponent .\n",
    "  }\n",
    "}\"\"\"\n",
    "\n",
    "df = sparqldataframe.query(endpointURL, prefixes+query)\n",
    "df"
   ]
  },
  {
   "cell_type": "markdown",
   "id": "ba3fcc42",
   "metadata": {},
   "source": [
    "Query 8: How many complexes have at least one component that is a complex, but not a black-box complex? <a class=\"anchor\" id=\"query8\"></a>\n",
    "\n",
    "Number of invalid complexes"
   ]
  },
  {
   "cell_type": "code",
   "execution_count": 11,
   "id": "d8adbaf8",
   "metadata": {},
   "outputs": [
    {
     "data": {
      "text/html": [
       "<div>\n",
       "<style scoped>\n",
       "    .dataframe tbody tr th:only-of-type {\n",
       "        vertical-align: middle;\n",
       "    }\n",
       "\n",
       "    .dataframe tbody tr th {\n",
       "        vertical-align: top;\n",
       "    }\n",
       "\n",
       "    .dataframe thead th {\n",
       "        text-align: right;\n",
       "    }\n",
       "</style>\n",
       "<table border=\"1\" class=\"dataframe\">\n",
       "  <thead>\n",
       "    <tr style=\"text-align: right;\">\n",
       "      <th></th>\n",
       "      <th>nbComplexes</th>\n",
       "    </tr>\n",
       "  </thead>\n",
       "  <tbody>\n",
       "    <tr>\n",
       "      <th>0</th>\n",
       "      <td>264</td>\n",
       "    </tr>\n",
       "  </tbody>\n",
       "</table>\n",
       "</div>"
      ],
      "text/plain": [
       "  nbComplexes\n",
       "0         264"
      ]
     },
     "execution_count": 11,
     "metadata": {},
     "output_type": "execute_result"
    }
   ],
   "source": [
    "## OD\n",
    "query=\"\"\"\n",
    "# All invalid complexes\n",
    "# Complexes that have at least one component that is a complex, but not a black box complexes\n",
    "\n",
    "SELECT (COUNT(DISTINCT ?complex) AS ?nbComplexes)\n",
    "WHERE {\n",
    "  ?complex rdf:type bp3:Complex .\n",
    "  ?complex bp3:component ?complexComponent . \n",
    "  ?complexComponent rdf:type bp3:Complex .\n",
    "  ?complexComponent bp3:component ?someComplexComponentComponent .\n",
    "}\"\"\"\n",
    "\n",
    "df = sparqldataframe.query(endpointURL, prefixes+query)\n",
    "df"
   ]
  },
  {
   "cell_type": "markdown",
   "id": "9e83cae5",
   "metadata": {},
   "source": [
    "Query 9: How many complexes, that are not black-boxes, are a component of at least another complex? <a class=\"anchor\" id=\"query9\"></a>"
   ]
  },
  {
   "cell_type": "code",
   "execution_count": 12,
   "id": "f18aac3d",
   "metadata": {},
   "outputs": [
    {
     "data": {
      "text/html": [
       "<div>\n",
       "<style scoped>\n",
       "    .dataframe tbody tr th:only-of-type {\n",
       "        vertical-align: middle;\n",
       "    }\n",
       "\n",
       "    .dataframe tbody tr th {\n",
       "        vertical-align: top;\n",
       "    }\n",
       "\n",
       "    .dataframe thead th {\n",
       "        text-align: right;\n",
       "    }\n",
       "</style>\n",
       "<table border=\"1\" class=\"dataframe\">\n",
       "  <thead>\n",
       "    <tr style=\"text-align: right;\">\n",
       "      <th></th>\n",
       "      <th>nbComplexes</th>\n",
       "    </tr>\n",
       "  </thead>\n",
       "  <tbody>\n",
       "    <tr>\n",
       "      <th>0</th>\n",
       "      <td>264</td>\n",
       "    </tr>\n",
       "  </tbody>\n",
       "</table>\n",
       "</div>"
      ],
      "text/plain": [
       "  nbComplexes\n",
       "0         264"
      ]
     },
     "execution_count": 12,
     "metadata": {},
     "output_type": "execute_result"
    }
   ],
   "source": [
    "## OD\n",
    "query=\"\"\"\n",
    "# Complexes that are not black boxes but are a component of at least another complex\n",
    "\n",
    "SELECT (COUNT(DISTINCT ?complex) AS ?nbComplexes)\n",
    "WHERE {\n",
    "  ?complex rdf:type bp3:Complex .\n",
    "  ?complex bp3:component ?complexComponent . \n",
    "  \n",
    "  ?superComplex bp3:component ?complex .\n",
    "  ?superComplex rdf:type bp3:Complex .\n",
    "}\"\"\"\n",
    "\n",
    "df = sparqldataframe.query(endpointURL, prefixes+query)\n",
    "df"
   ]
  },
  {
   "cell_type": "markdown",
   "id": "46123870",
   "metadata": {},
   "source": [
    "Query 10: Distribution of the number of direct components by complex <a class=\"anchor\" id=\"query10\"></a>"
   ]
  },
  {
   "cell_type": "code",
   "execution_count": 13,
   "id": "a6340e91",
   "metadata": {},
   "outputs": [
    {
     "data": {
      "text/plain": [
       "count    875.000000\n",
       "mean       2.379429\n",
       "std        3.592840\n",
       "min        0.000000\n",
       "25%        1.000000\n",
       "50%        2.000000\n",
       "75%        2.000000\n",
       "max       50.000000\n",
       "Name: nbComponents, dtype: float64"
      ]
     },
     "execution_count": 13,
     "metadata": {},
     "output_type": "execute_result"
    }
   ],
   "source": [
    "## OD\n",
    "query=\"\"\"\n",
    "# Distribution of the number of direct components by complex\n",
    "\n",
    "SELECT ?complex (COUNT(DISTINCT ?complexComponent) AS ?nbComponents)\n",
    "WHERE {\n",
    "  {\n",
    "    ?complex rdf:type bp3:Complex .\n",
    "    ?complex bp3:component ?complexComponent . \n",
    "  }\n",
    "  UNION\n",
    "  {\n",
    "    ?complex rdf:type bp3:Complex .\n",
    "    FILTER NOT EXISTS {\n",
    "      ?complex bp3:component ?complexComponent . \n",
    "    }\n",
    "  }\n",
    "}\n",
    "GROUP BY ?complex\n",
    "#ORDER BY DESC(?nbComponents)\n",
    "\"\"\"\n",
    "\n",
    "df = sparqldataframe.query(endpointURL, prefixes+query)\n",
    "df[\"nbComponents\"] = pandas.to_numeric(df[\"nbComponents\"])\n",
    "#df.to_csv(\"./direct_components.csv\")\n",
    "df[\"nbComponents\"].describe()"
   ]
  },
  {
   "cell_type": "code",
   "execution_count": 14,
   "id": "506705a1",
   "metadata": {},
   "outputs": [
    {
     "data": {
      "text/plain": [
       "Text(0.5, 0.98, 'Distribution of the number of direct components by complex')"
      ]
     },
     "execution_count": 14,
     "metadata": {},
     "output_type": "execute_result"
    },
    {
     "data": {
      "image/png": "[encoded data removed]",
      "text/plain": [
       "<Figure size 432x288 with 1 Axes>"
      ]
     },
     "metadata": {
      "needs_background": "light"
     },
     "output_type": "display_data"
    }
   ],
   "source": [
    "df['nbComponents'].hist(bins=df['nbComponents'].max()+1, log=True)\n",
    "plt.suptitle(\"Distribution of the number of direct components by complex\")"
   ]
  },
  {
   "cell_type": "markdown",
   "id": "96c9240f",
   "metadata": {},
   "source": [
    "Query 11: Distribution of the number of complexes a complex is a component of<a class=\"anchor\" id=\"query11\"></a>"
   ]
  },
  {
   "cell_type": "code",
   "execution_count": 15,
   "id": "eddafe74",
   "metadata": {},
   "outputs": [
    {
     "data": {
      "text/plain": [
       "Text(0.5, 0.98, 'Distribution of the number of complexes a complex is a component of')"
      ]
     },
     "execution_count": 15,
     "metadata": {},
     "output_type": "execute_result"
    },
    {
     "data": {
      "image/png": "[encoded data removed]",
      "text/plain": [
       "<Figure size 432x288 with 1 Axes>"
      ]
     },
     "metadata": {
      "needs_background": "light"
     },
     "output_type": "display_data"
    }
   ],
   "source": [
    "## OD\n",
    "query=\"\"\"\n",
    "# Distribution of the number of complexes a complex is a component of\n",
    "\n",
    "SELECT ?complex (COUNT(DISTINCT ?whole) AS ?nbWholes)\n",
    "WHERE {\n",
    "  {\n",
    "    ?complex rdf:type bp3:Complex .\n",
    "    ?whole bp3:component ?complex . \n",
    "  }\n",
    "  UNION\n",
    "  {\n",
    "    ?complex rdf:type bp3:Complex .\n",
    "    FILTER NOT EXISTS {\n",
    "      ?whole bp3:component ?complex .\n",
    "    }\n",
    "  }\n",
    "}\n",
    "GROUP BY ?complex\n",
    "#ORDER BY DESC(?nbComponents)\n",
    "\"\"\"\n",
    "\n",
    "df = sparqldataframe.query(endpointURL, prefixes+query)\n",
    "df[\"nbWholes\"] = pandas.to_numeric(df[\"nbWholes\"])\n",
    "df[\"nbWholes\"].describe()\n",
    "df[\"nbWholes\"].hist(bins=df['nbWholes'].max()+1, log=True)\n",
    "plt.suptitle(\"Distribution of the number of complexes a complex is a component of\")"
   ]
  },
  {
   "cell_type": "markdown",
   "id": "40c10895",
   "metadata": {},
   "source": [
    "Query 12: How many interactions **directly** involve invalid complexes? <a class=\"anchor\" id=\"query12\"></a>"
   ]
  },
  {
   "cell_type": "code",
   "execution_count": 16,
   "id": "e211ae47",
   "metadata": {},
   "outputs": [
    {
     "data": {
      "text/html": [
       "<div>\n",
       "<style scoped>\n",
       "    .dataframe tbody tr th:only-of-type {\n",
       "        vertical-align: middle;\n",
       "    }\n",
       "\n",
       "    .dataframe tbody tr th {\n",
       "        vertical-align: top;\n",
       "    }\n",
       "\n",
       "    .dataframe thead th {\n",
       "        text-align: right;\n",
       "    }\n",
       "</style>\n",
       "<table border=\"1\" class=\"dataframe\">\n",
       "  <thead>\n",
       "    <tr style=\"text-align: right;\">\n",
       "      <th></th>\n",
       "      <th>nbInteractions</th>\n",
       "    </tr>\n",
       "  </thead>\n",
       "  <tbody>\n",
       "    <tr>\n",
       "      <th>0</th>\n",
       "      <td>1502</td>\n",
       "    </tr>\n",
       "  </tbody>\n",
       "</table>\n",
       "</div>"
      ],
      "text/plain": [
       "  nbInteractions\n",
       "0           1502"
      ]
     },
     "execution_count": 16,
     "metadata": {},
     "output_type": "execute_result"
    }
   ],
   "source": [
    "## CJ\n",
    "query=\"\"\"\n",
    "#5734 invalid complexes, composed of 7119 molecules (proteins, smallmolecules et physicalentites)\n",
    "SELECT (COUNT(DISTINCT ?interaction) AS ?nbInteractions)\n",
    "WHERE {\n",
    "  ?invalidComplex rdf:type bp3:Complex .\n",
    "  ?invalidComplex bp3:component ?invalidComplexComponent . \n",
    "  ?invalidComplexComponent rdf:type bp3:Complex .\n",
    "  ?invalidComplexComponent bp3:component ?componentOfInvalidComplexComponent .\n",
    "  \n",
    "  ?rel rdfs:subPropertyOf* bp3:participant . \n",
    "  ?interaction ?rel ?complex .\n",
    "  \n",
    "}\"\"\"\n",
    "\n",
    "df = sparqldataframe.query(endpointURL, prefixes+query)\n",
    "df"
   ]
  },
  {
   "cell_type": "markdown",
   "id": "80caa17e",
   "metadata": {},
   "source": [
    "Query 13: How many different components (proteins, small molecules et physical entites) are involved in the invalid complexes? <a class=\"anchor\" id=\"query13\"></a>"
   ]
  },
  {
   "cell_type": "code",
   "execution_count": 17,
   "id": "e5c6b854",
   "metadata": {},
   "outputs": [
    {
     "data": {
      "text/html": [
       "<div>\n",
       "<style scoped>\n",
       "    .dataframe tbody tr th:only-of-type {\n",
       "        vertical-align: middle;\n",
       "    }\n",
       "\n",
       "    .dataframe tbody tr th {\n",
       "        vertical-align: top;\n",
       "    }\n",
       "\n",
       "    .dataframe thead th {\n",
       "        text-align: right;\n",
       "    }\n",
       "</style>\n",
       "<table border=\"1\" class=\"dataframe\">\n",
       "  <thead>\n",
       "    <tr style=\"text-align: right;\">\n",
       "      <th></th>\n",
       "      <th>nbInvalidComplexesComponents</th>\n",
       "    </tr>\n",
       "  </thead>\n",
       "  <tbody>\n",
       "    <tr>\n",
       "      <th>0</th>\n",
       "      <td>660</td>\n",
       "    </tr>\n",
       "  </tbody>\n",
       "</table>\n",
       "</div>"
      ],
      "text/plain": [
       "  nbInvalidComplexesComponents\n",
       "0                          660"
      ]
     },
     "execution_count": 17,
     "metadata": {},
     "output_type": "execute_result"
    }
   ],
   "source": [
    "## CJ\n",
    "query=\"\"\"\n",
    "#5734 invalid complexes, composed of 7119 molecules (proteins, smallmolecules et physicalentites)\n",
    "SELECT (COUNT(DISTINCT ?leafComponent) AS ?nbInvalidComplexesComponents)\n",
    "WHERE {\n",
    "  ?invalidComplex rdf:type bp3:Complex .\n",
    "  ?invalidComplex bp3:component ?invalidComplexComponent . \n",
    "  ?invalidComplexComponent rdf:type bp3:Complex .\n",
    "  ?invalidComplexComponent bp3:component ?someComplexComponentComponent .\n",
    "  \n",
    "  ?invalidComplex bp3:component+ ?leafComponent .\n",
    "  \n",
    "  FILTER NOT EXISTS {  ?leafComponent rdf:type bp3:Complex .}\n",
    "  FILTER NOT EXISTS {  ?leafComponent rdf:type bp3:Rna .}\n",
    "  FILTER NOT EXISTS {  ?leafComponent rdf:type bp3:Dna .}\n",
    "  FILTER NOT EXISTS {  ?leafComponent rdf:type bp3:Degradation .}\n",
    "  FILTER NOT EXISTS {  ?leafComponent rdf:type bp3:BiochemicalReaction .}\n",
    "  FILTER NOT EXISTS {  ?leafComponent rdf:type bp3:TemplateReaction .}\n",
    "  \n",
    "}\n",
    "\"\"\"\n",
    "\n",
    "df = sparqldataframe.query(endpointURL, prefixes+query)\n",
    "df"
   ]
  },
  {
   "cell_type": "markdown",
   "id": "6b8606f6",
   "metadata": {},
   "source": [
    "The 5,734 invalid complexes are (in)directly composed of 7,119 distinct entities that are not complexes, interactions, DNA or RNA. Nb: this excludes black-box complexes."
   ]
  },
  {
   "cell_type": "markdown",
   "id": "02c9212f",
   "metadata": {},
   "source": [
    "Query 14: How many interactions **directly** involve these components? <a class=\"anchor\" id=\"query14\"></a>"
   ]
  },
  {
   "cell_type": "code",
   "execution_count": 18,
   "id": "b1e55f91",
   "metadata": {},
   "outputs": [
    {
     "data": {
      "text/html": [
       "<div>\n",
       "<style scoped>\n",
       "    .dataframe tbody tr th:only-of-type {\n",
       "        vertical-align: middle;\n",
       "    }\n",
       "\n",
       "    .dataframe tbody tr th {\n",
       "        vertical-align: top;\n",
       "    }\n",
       "\n",
       "    .dataframe thead th {\n",
       "        text-align: right;\n",
       "    }\n",
       "</style>\n",
       "<table border=\"1\" class=\"dataframe\">\n",
       "  <thead>\n",
       "    <tr style=\"text-align: right;\">\n",
       "      <th></th>\n",
       "      <th>nbInteractions</th>\n",
       "    </tr>\n",
       "  </thead>\n",
       "  <tbody>\n",
       "    <tr>\n",
       "      <th>0</th>\n",
       "      <td>318</td>\n",
       "    </tr>\n",
       "  </tbody>\n",
       "</table>\n",
       "</div>"
      ],
      "text/plain": [
       "  nbInteractions\n",
       "0            318"
      ]
     },
     "execution_count": 18,
     "metadata": {},
     "output_type": "execute_result"
    }
   ],
   "source": [
    "## CJ OD\n",
    "query=\"\"\"\n",
    "#5734 invalid complexes, composed of 7119 molecules (proteins, smallmolecules et physicalentites)\n",
    "#All interactions that have a participant that is a component of an invalid complex \n",
    "\n",
    "SELECT (COUNT(DISTINCT ?interact) AS ?nbInteractions)\n",
    "WHERE {\n",
    "  ?invalidComplex rdf:type bp3:Complex .\n",
    "  ?invalidComplex bp3:component ?invalidComplexComponent .\n",
    "  ?invalidComplexComponent bp3:component ?componentOfInvalidComplexComponent .\n",
    "  \n",
    "  ?invalidComplex bp3:component* ?leafComponent .\n",
    "\n",
    "  FILTER NOT EXISTS {  ?leafComponent rdf:type bp3:Complex .}\n",
    "  FILTER NOT EXISTS {  ?leafComponent rdf:type bp3:Rna .}\n",
    "  FILTER NOT EXISTS {  ?leafComponent rdf:type bp3:Dna .}\n",
    "  FILTER NOT EXISTS {  ?leafComponent rdf:type bp3:Degradation .}\n",
    "  FILTER NOT EXISTS {  ?leafComponent rdf:type bp3:BiochemicalReaction .}\n",
    "  FILTER NOT EXISTS {  ?leafComponent rdf:type bp3:TemplateReaction .} \n",
    "  \n",
    "  ?interact ?hasParticipant ?leafComponent .\n",
    "  ?hasParticipant rdfs:subPropertyOf* bp3:participant .\n",
    "}\"\"\"\n",
    "\n",
    "df = sparqldataframe.query(endpointURL, prefixes+query)\n",
    "df"
   ]
  },
  {
   "cell_type": "markdown",
   "id": "a6e6ded8",
   "metadata": {},
   "source": [
    "Query 15: How many interactions involve a complex having a **direct** component that is a component of an invalid complex?  <a class=\"anchor\" id=\"query15\"></a>\n",
    "\n",
    "Interactions involving a complex composed directly of a component of an invalid complex"
   ]
  },
  {
   "cell_type": "code",
   "execution_count": 19,
   "id": "1549c19c",
   "metadata": {},
   "outputs": [
    {
     "data": {
      "text/html": [
       "<div>\n",
       "<style scoped>\n",
       "    .dataframe tbody tr th:only-of-type {\n",
       "        vertical-align: middle;\n",
       "    }\n",
       "\n",
       "    .dataframe tbody tr th {\n",
       "        vertical-align: top;\n",
       "    }\n",
       "\n",
       "    .dataframe thead th {\n",
       "        text-align: right;\n",
       "    }\n",
       "</style>\n",
       "<table border=\"1\" class=\"dataframe\">\n",
       "  <thead>\n",
       "    <tr style=\"text-align: right;\">\n",
       "      <th></th>\n",
       "      <th>nbInteractions</th>\n",
       "    </tr>\n",
       "  </thead>\n",
       "  <tbody>\n",
       "    <tr>\n",
       "      <th>0</th>\n",
       "      <td>492</td>\n",
       "    </tr>\n",
       "  </tbody>\n",
       "</table>\n",
       "</div>"
      ],
      "text/plain": [
       "  nbInteractions\n",
       "0            492"
      ]
     },
     "execution_count": 19,
     "metadata": {},
     "output_type": "execute_result"
    }
   ],
   "source": [
    "query=\"\"\"\n",
    "# All interactions that have a participant that is a complex having a direct component that is a component of an invalid complex (excludes black-box complexes)\n",
    "\n",
    "SELECT (COUNT(DISTINCT ?interact) AS ?nbInteractions)\n",
    "WHERE {\n",
    "  ?invalidComplex rdf:type bp3:Complex .\n",
    "  ?invalidComplex bp3:component ?invalidComplexComponent .\n",
    "  ?invalidComplexComponent bp3:component ?componentOfInvalidComplexComponent .\n",
    "  \n",
    "  ?invalidComplex bp3:component* ?leafComponent .\n",
    "\n",
    "  FILTER NOT EXISTS {  ?leafComponent rdf:type bp3:Complex .}\n",
    "  FILTER NOT EXISTS {  ?leafComponent rdf:type bp3:Rna .}\n",
    "  FILTER NOT EXISTS {  ?leafComponent rdf:type bp3:Dna .}\n",
    "  FILTER NOT EXISTS {  ?leafComponent rdf:type bp3:Degradation .}\n",
    "  FILTER NOT EXISTS {  ?leafComponent rdf:type bp3:BiochemicalReaction .}\n",
    "  FILTER NOT EXISTS {  ?leafComponent rdf:type bp3:TemplateReaction .}\n",
    "  \n",
    "  ?interactParticipant bp3:component? ?leafComponent . # 0 or 1 path\n",
    "  ?interact ?hasParticipant ?interactParticipant .\n",
    "  ?hasParticipant rdfs:subPropertyOf* bp3:participant .\n",
    "}\n",
    "\"\"\"\n",
    "\n",
    "df = sparqldataframe.query(endpointURL, prefixes+query)\n",
    "df"
   ]
  },
  {
   "cell_type": "markdown",
   "id": "30ea8415",
   "metadata": {},
   "source": [
    "Query 16: How many interactions **directly** and **indirectly** involve these components? <a class=\"anchor\" id=\"query16\"></a>\n",
    "\n",
    "Interactions involving a complex (valid or invalid) composed indirectly of a component of an invalid complex or the component itself"
   ]
  },
  {
   "cell_type": "code",
   "execution_count": 20,
   "id": "be86f7c8",
   "metadata": {},
   "outputs": [
    {
     "data": {
      "text/html": [
       "<div>\n",
       "<style scoped>\n",
       "    .dataframe tbody tr th:only-of-type {\n",
       "        vertical-align: middle;\n",
       "    }\n",
       "\n",
       "    .dataframe tbody tr th {\n",
       "        vertical-align: top;\n",
       "    }\n",
       "\n",
       "    .dataframe thead th {\n",
       "        text-align: right;\n",
       "    }\n",
       "</style>\n",
       "<table border=\"1\" class=\"dataframe\">\n",
       "  <thead>\n",
       "    <tr style=\"text-align: right;\">\n",
       "      <th></th>\n",
       "      <th>nbInteractions</th>\n",
       "    </tr>\n",
       "  </thead>\n",
       "  <tbody>\n",
       "    <tr>\n",
       "      <th>0</th>\n",
       "      <td>514</td>\n",
       "    </tr>\n",
       "  </tbody>\n",
       "</table>\n",
       "</div>"
      ],
      "text/plain": [
       "  nbInteractions\n",
       "0            514"
      ]
     },
     "execution_count": 20,
     "metadata": {},
     "output_type": "execute_result"
    }
   ],
   "source": [
    "## CJ OD\n",
    "query=\"\"\"\n",
    "#5734 invalid complexes, composed of 7119 molecules (proteins, smallmolecules et physicalentites)\n",
    "#Interactions involving a complex composed indirectly of a component of an invalid complex\n",
    "\n",
    "SELECT (COUNT(DISTINCT ?interact) AS ?nbInteractions)\n",
    "WHERE {\n",
    "  ?invalidComplex rdf:type bp3:Complex .\n",
    "  ?invalidComplex bp3:component ?invalidComplexComponent .\n",
    "  ?invalidComplexComponent bp3:component ?componentOfInvalidComplexComponent .\n",
    "  \n",
    "  ?invalidComplex bp3:component* ?leafComponent .\n",
    "  \n",
    "  FILTER NOT EXISTS {  ?leafComponent rdf:type bp3:Complex .}\n",
    "  FILTER NOT EXISTS {  ?leafComponent rdf:type bp3:Rna .}\n",
    "  FILTER NOT EXISTS {  ?leafComponent rdf:type bp3:Dna .}\n",
    "  FILTER NOT EXISTS {  ?leafComponent rdf:type bp3:Degradation .}\n",
    "  FILTER NOT EXISTS {  ?leafComponent rdf:type bp3:BiochemicalReaction .}\n",
    "  FILTER NOT EXISTS {  ?leafComponent rdf:type bp3:TemplateReaction .}\n",
    "  \n",
    "  \n",
    "  ?interactParticipant bp3:component* ?leafComponent . # 0 or more paths\n",
    "  ?hasParticipant rdfs:subPropertyOf* bp3:participant .  \n",
    "  ?interact ?hasParticipant ?interactParticipant .\n",
    "}\n",
    "\"\"\"\n",
    "\n",
    "df = sparqldataframe.query(endpointURL, prefixes+query)\n",
    "df"
   ]
  },
  {
   "cell_type": "markdown",
   "id": "a0238d7d",
   "metadata": {},
   "source": [
    "### Identify the redundant complexes <a class=\"anchor\" id=\"identify_redundant\"></a>"
   ]
  },
  {
   "cell_type": "markdown",
   "id": "bb3f3de8",
   "metadata": {},
   "source": [
    "Query 17: How many pairs of complexes have different identifiers but the same components with the same stoichiometric coefficients and the same cellular location? <a class=\"anchor\" id=\"query17\"></a>"
   ]
  },
  {
   "cell_type": "code",
   "execution_count": 21,
   "id": "787ec78d",
   "metadata": {},
   "outputs": [
    {
     "data": {
      "text/html": [
       "<div>\n",
       "<style scoped>\n",
       "    .dataframe tbody tr th:only-of-type {\n",
       "        vertical-align: middle;\n",
       "    }\n",
       "\n",
       "    .dataframe tbody tr th {\n",
       "        vertical-align: top;\n",
       "    }\n",
       "\n",
       "    .dataframe thead th {\n",
       "        text-align: right;\n",
       "    }\n",
       "</style>\n",
       "<table border=\"1\" class=\"dataframe\">\n",
       "  <thead>\n",
       "    <tr style=\"text-align: right;\">\n",
       "      <th></th>\n",
       "      <th>complex1</th>\n",
       "      <th>complex2</th>\n",
       "      <th>loc1</th>\n",
       "    </tr>\n",
       "  </thead>\n",
       "  <tbody>\n",
       "  </tbody>\n",
       "</table>\n",
       "</div>"
      ],
      "text/plain": [
       "Empty DataFrame\n",
       "Columns: [complex1, complex2, loc1]\n",
       "Index: []"
      ]
     },
     "execution_count": 21,
     "metadata": {},
     "output_type": "execute_result"
    }
   ],
   "source": [
    "## OD CJ\n",
    "query = \"\"\"\n",
    "# Retrieve redundant complexes i.e. pairs of complexes having different identifiers but the same components with the same stoichiometric coefficients\n",
    "SELECT DISTINCT ?complex1  ?complex2 ?loc1# ?id1 ?id2 #?comp ?stoichioValue1 ?stoichioValue2\n",
    "\n",
    "WHERE {\n",
    "  #VALUES ?complex { reactome:Complex3 reactome:Complex7 reactome:Complex4 reactome:Complex5 reactome:Complex6 reactome:Complex8 reactome:Complex101 reactome:Complex102 }\n",
    "  #VALUES ?complex { reactome:Complex102 }\n",
    "  \n",
    "  ?complex1 rdf:type bp3:Complex .\n",
    "  # ?complex1 and ?complex2 have at least 1 common component (to avoid matching all the pairs of blackbox complexes that do not have any components)\n",
    "  ?complex1 bp3:component ?commonComp .\n",
    "  ?complex2 bp3:component ?commonComp .\n",
    "  ?complex2 rdf:type bp3:Complex .\n",
    "  ?complex1 bp3:cellularLocation ?loc1 .\n",
    "  ?complex2 bp3:cellularLocation ?loc1 .\n",
    "  FILTER (str(?complex1) < str(?complex2))\n",
    "  # ?complex1 and ?complex2 do not have any common component that has different stoichiometric coefficients between the two complexes\n",
    "  FILTER NOT EXISTS {\n",
    "    ?complex1 bp3:component ?comp .\n",
    "    ?complex2 bp3:component ?comp .\n",
    "    #?complex1 bp3:cellularLocation ?loc1 .\n",
    "    ?complex1 bp3:componentStoichiometry ?stoichio1 .\n",
    "    ?stoichio1 bp3:physicalEntity ?comp .\n",
    "    ?stoichio1 bp3:stoichiometricCoefficient ?stoichioValue1 .\n",
    "\n",
    "    ?complex2 bp3:componentStoichiometry ?stoichio2 .\n",
    "    ?stoichio2 bp3:physicalEntity ?comp .\n",
    "    #?complex2 bp3:cellularLocation ?loc2 .\n",
    "    ?stoichio2 bp3:stoichiometricCoefficient ?stoichioValue2 .\n",
    "    FILTER (?stoichioValue1 != ?stoichioValue2)\n",
    "    #FILTER (?loc1 != ?loc2)\n",
    "  }\n",
    "\n",
    "\n",
    "  # all the direct components of ?complex1 are also components of ?complex2\n",
    "  FILTER NOT EXISTS {\n",
    "    ?complex1 bp3:component ?comp1 .\n",
    "    FILTER NOT EXISTS {\n",
    "      ?complex2 bp3:component ?comp1 .\n",
    "    }\n",
    "  }\n",
    "  # all the direct components of ?complex2 are also components of ?complex1\n",
    "  FILTER NOT EXISTS {\n",
    "    ?complex2 bp3:component ?comp2 .\n",
    "    FILTER NOT EXISTS {\n",
    "      ?complex1 bp3:component ?comp2 .\n",
    "    }\n",
    "  }\n",
    " OPTIONAL{ ?complex1 bp3:xref ?xref1 .\n",
    "    ?xref1 bp3:db \"ComplexPortal\" .\n",
    "    ?xref1 bp3:id ?id1 . }\n",
    "  \n",
    "OPTIONAL{ ?complex2 bp3:xref ?xref2 .\n",
    "    ?xref2 bp3:db \"ComplexPortal\" .\n",
    "    ?xref2 bp3:id ?id2 . }\n",
    "}\n",
    "\"\"\"\n",
    "df = sparqldataframe.query(endpointURL, prefixes+query)\n",
    "df"
   ]
  },
  {
   "cell_type": "markdown",
   "id": "25b66364",
   "metadata": {},
   "source": [
    "How many cliques? <a class=\"anchor\" id=\"cliques\"></a>"
   ]
  },
  {
   "cell_type": "code",
   "execution_count": 22,
   "id": "e9f792af",
   "metadata": {},
   "outputs": [
    {
     "ename": "IndexError",
     "evalue": "index 0 is out of bounds for axis 0 with size 0",
     "output_type": "error",
     "traceback": [
      "\u001b[1;31m---------------------------------------------------------------------------\u001b[0m",
      "\u001b[1;31mIndexError\u001b[0m                                Traceback (most recent call last)",
      "\u001b[1;32m<ipython-input-22-66e45bdc79a5>\u001b[0m in \u001b[0;36m<module>\u001b[1;34m\u001b[0m\n\u001b[1;32m----> 1\u001b[1;33m \u001b[0mcliques\u001b[0m \u001b[1;33m=\u001b[0m \u001b[1;33m{\u001b[0m\u001b[0mdf\u001b[0m\u001b[1;33m[\u001b[0m\u001b[1;34m\"complex1\"\u001b[0m\u001b[1;33m]\u001b[0m\u001b[1;33m[\u001b[0m\u001b[1;36m0\u001b[0m\u001b[1;33m]\u001b[0m \u001b[1;33m:\u001b[0m \u001b[1;33m[\u001b[0m\u001b[0mdf\u001b[0m\u001b[1;33m[\u001b[0m\u001b[1;34m\"complex2\"\u001b[0m\u001b[1;33m]\u001b[0m\u001b[1;33m[\u001b[0m\u001b[1;36m0\u001b[0m\u001b[1;33m]\u001b[0m\u001b[1;33m]\u001b[0m\u001b[1;33m}\u001b[0m\u001b[1;33m\u001b[0m\u001b[1;33m\u001b[0m\u001b[0m\n\u001b[0m\u001b[0;32m      2\u001b[0m \u001b[1;32mfor\u001b[0m \u001b[0mrow\u001b[0m \u001b[1;32min\u001b[0m \u001b[0mdf\u001b[0m\u001b[1;33m.\u001b[0m\u001b[0mitertuples\u001b[0m\u001b[1;33m(\u001b[0m\u001b[0mindex\u001b[0m\u001b[1;33m=\u001b[0m\u001b[1;32mFalse\u001b[0m\u001b[1;33m)\u001b[0m\u001b[1;33m:\u001b[0m\u001b[1;33m\u001b[0m\u001b[1;33m\u001b[0m\u001b[0m\n\u001b[0;32m      3\u001b[0m     \u001b[1;32mif\u001b[0m \u001b[0mrow\u001b[0m\u001b[1;33m[\u001b[0m\u001b[1;36m0\u001b[0m\u001b[1;33m]\u001b[0m \u001b[1;32min\u001b[0m \u001b[0mcliques\u001b[0m \u001b[1;33m:\u001b[0m\u001b[1;33m\u001b[0m\u001b[1;33m\u001b[0m\u001b[0m\n\u001b[0;32m      4\u001b[0m         \u001b[0mcliques\u001b[0m\u001b[1;33m[\u001b[0m\u001b[0mrow\u001b[0m\u001b[1;33m[\u001b[0m\u001b[1;36m0\u001b[0m\u001b[1;33m]\u001b[0m\u001b[1;33m]\u001b[0m\u001b[1;33m.\u001b[0m\u001b[0mappend\u001b[0m\u001b[1;33m(\u001b[0m\u001b[0mrow\u001b[0m\u001b[1;33m[\u001b[0m\u001b[1;36m1\u001b[0m\u001b[1;33m]\u001b[0m\u001b[1;33m)\u001b[0m\u001b[1;33m\u001b[0m\u001b[1;33m\u001b[0m\u001b[0m\n\u001b[0;32m      5\u001b[0m     \u001b[1;32melif\u001b[0m \u001b[0mrow\u001b[0m\u001b[1;33m[\u001b[0m\u001b[1;36m1\u001b[0m\u001b[1;33m]\u001b[0m \u001b[1;32min\u001b[0m \u001b[0mcliques\u001b[0m \u001b[1;33m:\u001b[0m\u001b[1;33m\u001b[0m\u001b[1;33m\u001b[0m\u001b[0m\n",
      "\u001b[1;32m~\\Anaconda3\\lib\\site-packages\\pandas\\core\\series.py\u001b[0m in \u001b[0;36m__getitem__\u001b[1;34m(self, key)\u001b[0m\n\u001b[0;32m    848\u001b[0m \u001b[1;33m\u001b[0m\u001b[0m\n\u001b[0;32m    849\u001b[0m         \u001b[1;32mif\u001b[0m \u001b[0mis_integer\u001b[0m\u001b[1;33m(\u001b[0m\u001b[0mkey\u001b[0m\u001b[1;33m)\u001b[0m \u001b[1;32mand\u001b[0m \u001b[0mself\u001b[0m\u001b[1;33m.\u001b[0m\u001b[0mindex\u001b[0m\u001b[1;33m.\u001b[0m\u001b[0m_should_fallback_to_positional\u001b[0m\u001b[1;33m(\u001b[0m\u001b[1;33m)\u001b[0m\u001b[1;33m:\u001b[0m\u001b[1;33m\u001b[0m\u001b[1;33m\u001b[0m\u001b[0m\n\u001b[1;32m--> 850\u001b[1;33m             \u001b[1;32mreturn\u001b[0m \u001b[0mself\u001b[0m\u001b[1;33m.\u001b[0m\u001b[0m_values\u001b[0m\u001b[1;33m[\u001b[0m\u001b[0mkey\u001b[0m\u001b[1;33m]\u001b[0m\u001b[1;33m\u001b[0m\u001b[1;33m\u001b[0m\u001b[0m\n\u001b[0m\u001b[0;32m    851\u001b[0m \u001b[1;33m\u001b[0m\u001b[0m\n\u001b[0;32m    852\u001b[0m         \u001b[1;32melif\u001b[0m \u001b[0mkey_is_scalar\u001b[0m\u001b[1;33m:\u001b[0m\u001b[1;33m\u001b[0m\u001b[1;33m\u001b[0m\u001b[0m\n",
      "\u001b[1;31mIndexError\u001b[0m: index 0 is out of bounds for axis 0 with size 0"
     ]
    }
   ],
   "source": [
    "cliques = {df[\"complex1\"][0] : [df[\"complex2\"][0]]}\n",
    "for row in df.itertuples(index=False):\n",
    "    if row[0] in cliques :\n",
    "        cliques[row[0]].append(row[1])\n",
    "    elif row[1] in cliques :\n",
    "        cliques[row[1]].append(row[0])\n",
    "    else :\n",
    "        found = False\n",
    "        for i in cliques :\n",
    "            if row[0] in cliques[i]:\n",
    "                cliques[i].append(row[1])\n",
    "                found = True\n",
    "                break\n",
    "            elif row[1] in cliques[i]:\n",
    "                cliques[i].append(row[0])\n",
    "                found = True\n",
    "                break\n",
    "        if not found :\n",
    "            cliques[row[0]] = list()\n",
    "            cliques[row[0]].append(row[1])\n",
    "       \n",
    "len(cliques) "
   ]
  },
  {
   "cell_type": "markdown",
   "id": "89c6f7ee",
   "metadata": {},
   "source": [
    "* * *\n",
    "### Fix the invalid complexes <a class=\"anchor\" id=\"fix_complexes\"></a>\n",
    "\n",
    "- step 0: retrieve Reactome\n",
    "       wget https://reactome.org/download/current/biopax.zip\n",
    "       unzip biopax.zip Homo_sapiens.owl\n",
    "       echo \"Reactome version: $(expr \"$(grep xml:base Homo_sapiens.owl)\" : '.*http:\\/\\/www.reactome.org\\/biopax\\/\\([[:digit:]]*\\).*')\"\n",
    "\n",
    "- step 1: setup SPARQL endpoint with reactome\n",
    "       # broken with fuseki-4.4.0: \n",
    "       # temporary fix\n",
    "       ${FUSEKI_HOME}/fuseki-server --mem --update /reactome\n",
    "       # then manually load Homo_sapiens.owl\n",
    "\n",
    "- step 2: export the valid complexes\n",
    "\n",
    "- step 3: export the fixed invalid complexes\n",
    "\n",
    "- step 4: export reactome without complexes"
   ]
  },
  {
   "cell_type": "markdown",
   "id": "560aa852",
   "metadata": {},
   "source": [
    "![](\"./Figure_drawio/2022_03_17_Stoichio.pdf\")"
   ]
  },
  {
   "cell_type": "markdown",
   "id": "4a59573c",
   "metadata": {},
   "source": [
    "Function 1: fix invalid complexes <a class=\"anchor\" id=\"function1\"></a>"
   ]
  },
  {
   "cell_type": "code",
   "execution_count": 23,
   "id": "c89e0266",
   "metadata": {},
   "outputs": [],
   "source": [
    "def fixInvalidComplexes():\n",
    "    ##### FIX INVALID COMPLEXES\n",
    "    queryPath = 'queries/template-fixInvalidComplexes.rq'\n",
    "    sparqlQuery = pathlib.Path(queryPath).read_text().replace('$supplementaryPrefixes$',uri_utils.convertPrefixesDictToSPARQL(prefixesDict)) \n",
    "#     sparql = SPARQLWrapper(endpointURL)\n",
    "    sparql.setQuery(sparqlQuery)\n",
    "    sparql.setReturnFormat(JSON)\n",
    "    results = sparql.query().convert()\n",
    "    nbInvalidComplexes = len(results[\"results\"][\"bindings\"])\n",
    "    i = 0\n",
    "    for result in results[\"results\"][\"bindings\"]:\n",
    "        print(\"{}\\t{}\\t{}\".format(i, time.time()-startTime, result['invalidComplex']['value']))\n",
    "        validGraph = rdflib.Graph()\n",
    "        validGraph.bind(\"bp3\",\"http://www.biopax.org/release/biopax-level3.owl#\")\n",
    "        complexComponents.getRepresentationBiopaxValid(endpointURL, result['invalidComplex']['value'], prefixesDict=prefixesDict, targetGraph=validGraph, rdfFormat=\"turtle\", biopaxFilePath=\"\")\n",
    "        with open(path_results + \"/reactome-v\" + str(reactomeVersion) + '-' + str(species) + \"-\" + result['invalidComplex']['value'].replace(\"http://www.reactome.org/biopax/\" + str(reactomeVersion) + \"/\" + str(species) + \"#\", \"\") + \"-valid.ttl\", 'w',encoding=\"utf-8\") as rdfFile:\n",
    "            rdfFile.write(validGraph.serialize(format=rdfFormat))#.decode('UTF-8'))\n",
    "        i += 1\n",
    "    \n",
    "     #${JENA_HOME}/bin/riot --time --output=Turtle result/reactome-v81-Complex*.ttl > reactome-v81-complexes-invalid-fixed.ttl"
   ]
  },
  {
   "cell_type": "markdown",
   "id": "7fbbbc3d",
   "metadata": {},
   "source": [
    "Function 2: export valid complexes <a class=\"anchor\" id=\"function2\"></a>"
   ]
  },
  {
   "cell_type": "code",
   "execution_count": 24,
   "id": "4dd55002",
   "metadata": {},
   "outputs": [],
   "source": [
    "def exportValidComplexes():\n",
    "    ##### EXPORT VALID PART OF REACTOME\n",
    "    queryPath = 'queries/template-extractValidComplexes-construct.rq'\n",
    "    sparqlQuery = pathlib.Path(queryPath).read_text().replace('$supplementaryPrefixes$',uri_utils.convertPrefixesDictToSPARQL(prefixesDict)) \n",
    "    sparql.setQuery(sparqlQuery)\n",
    "    sparql.setReturnFormat(rdfFormat)\n",
    "    results = sparql.query().convert()\n",
    "    validGraph = rdflib.Graph()\n",
    "    validGraph.parse(data=results, format=rdfFormat)\n",
    "\n",
    "    with open(path_results + \"/reactome-v\" + str(reactomeVersion) + '-' + str(species) + \"-complexes-valid.ttl\", 'w', encoding=\"utf-8\") as rdfFile:\n",
    "        rdfFile.write(validGraph.serialize(format=rdfFormat).encode().decode('UTF-8'))"
   ]
  },
  {
   "cell_type": "markdown",
   "id": "e8971083",
   "metadata": {},
   "source": [
    "Function 3: delete all complexes  <a class=\"anchor\" id=\"function3\"></a>"
   ]
  },
  {
   "cell_type": "code",
   "execution_count": 25,
   "id": "4eb2eb0c",
   "metadata": {},
   "outputs": [],
   "source": [
    "def deleteAllComplexes():\n",
    "    queryPath = 'queries/deleteOriginalComplexes.rq'\n",
    "    sparqlQuery = pathlib.Path(queryPath).read_text().replace('$supplementaryPrefixes$',uri_utils.convertPrefixesDictToSPARQL(prefixesDict))\n",
    "    print(\"Calling: \" + endpointURL.replace(\"query\", \"update\"))\n",
    "    sparql = SPARQLWrapper(endpointURL.replace(\"query\", \"update\"))\n",
    "    sparql.setQuery(sparqlQuery)\n",
    "    sparql.method = 'POST'\n",
    "    #sparql.setReturnFormat(JSON)\n",
    "    sparql.query()"
   ]
  },
  {
   "cell_type": "code",
   "execution_count": 26,
   "id": "613d1d94",
   "metadata": {},
   "outputs": [],
   "source": [
    "validGraph = rdflib.Graph()\n",
    "sparql = SPARQLWrapper(endpointURL)"
   ]
  },
  {
   "cell_type": "code",
   "execution_count": 27,
   "id": "2ef33f41",
   "metadata": {
    "scrolled": true
   },
   "outputs": [
    {
     "name": "stdout",
     "output_type": "stream",
     "text": [
      "0\t0.03099846839904785\thttp://www.reactome.org/biopax/81/170928#Complex4\n",
      "1\t0.2242424488067627\thttp://www.reactome.org/biopax/81/170928#Complex12\n",
      "2\t0.43604063987731934\thttp://www.reactome.org/biopax/81/170928#Complex13\n",
      "3\t0.5584056377410889\thttp://www.reactome.org/biopax/81/170928#Complex20\n",
      "4\t0.7203216552734375\thttp://www.reactome.org/biopax/81/170928#Complex24\n",
      "5\t0.8235104084014893\thttp://www.reactome.org/biopax/81/170928#Complex26\n",
      "6\t0.9583380222320557\thttp://www.reactome.org/biopax/81/170928#Complex27\n",
      "7\t1.7536296844482422\thttp://www.reactome.org/biopax/81/170928#Complex28\n",
      "8\t2.041114091873169\thttp://www.reactome.org/biopax/81/170928#Complex32\n",
      "9\t2.4389312267303467\thttp://www.reactome.org/biopax/81/170928#Complex42\n",
      "10\t2.5208706855773926\thttp://www.reactome.org/biopax/81/170928#Complex63\n",
      "11\t3.149554491043091\thttp://www.reactome.org/biopax/81/170928#Complex64\n",
      "12\t3.747682571411133\thttp://www.reactome.org/biopax/81/170928#Complex65\n",
      "13\t3.9404473304748535\thttp://www.reactome.org/biopax/81/170928#Complex68\n",
      "14\t4.081251859664917\thttp://www.reactome.org/biopax/81/170928#Complex84\n",
      "15\t4.1885151863098145\thttp://www.reactome.org/biopax/81/170928#Complex100\n",
      "16\t4.442317724227905\thttp://www.reactome.org/biopax/81/170928#Complex102\n",
      "17\t4.770256519317627\thttp://www.reactome.org/biopax/81/170928#Complex109\n",
      "18\t5.571687698364258\thttp://www.reactome.org/biopax/81/170928#Complex110\n",
      "19\t6.384348630905151\thttp://www.reactome.org/biopax/81/170928#Complex113\n",
      "20\t6.5426185131073\thttp://www.reactome.org/biopax/81/170928#Complex115\n",
      "21\t6.78673791885376\thttp://www.reactome.org/biopax/81/170928#Complex117\n",
      "22\t6.904238224029541\thttp://www.reactome.org/biopax/81/170928#Complex118\n",
      "23\t7.034436941146851\thttp://www.reactome.org/biopax/81/170928#Complex120\n",
      "24\t7.250131607055664\thttp://www.reactome.org/biopax/81/170928#Complex122\n",
      "25\t7.367142677307129\thttp://www.reactome.org/biopax/81/170928#Complex125\n",
      "26\t7.52224326133728\thttp://www.reactome.org/biopax/81/170928#Complex128\n",
      "27\t7.620795965194702\thttp://www.reactome.org/biopax/81/170928#Complex129\n",
      "28\t7.723073482513428\thttp://www.reactome.org/biopax/81/170928#Complex131\n",
      "29\t7.847735643386841\thttp://www.reactome.org/biopax/81/170928#Complex133\n",
      "30\t8.039702415466309\thttp://www.reactome.org/biopax/81/170928#Complex135\n",
      "31\t8.1468186378479\thttp://www.reactome.org/biopax/81/170928#Complex136\n",
      "32\t8.246139764785767\thttp://www.reactome.org/biopax/81/170928#Complex142\n",
      "33\t8.642603635787964\thttp://www.reactome.org/biopax/81/170928#Complex153\n",
      "34\t9.185453653335571\thttp://www.reactome.org/biopax/81/170928#Complex138\n",
      "35\t9.323466777801514\thttp://www.reactome.org/biopax/81/170928#Complex143\n",
      "36\t9.550888061523438\thttp://www.reactome.org/biopax/81/170928#Complex146\n",
      "37\t9.699822187423706\thttp://www.reactome.org/biopax/81/170928#Complex148\n",
      "38\t9.790424585342407\thttp://www.reactome.org/biopax/81/170928#Complex154\n",
      "39\t10.200821876525879\thttp://www.reactome.org/biopax/81/170928#Complex166\n",
      "40\t10.271989345550537\thttp://www.reactome.org/biopax/81/170928#Complex175\n",
      "41\t10.810556888580322\thttp://www.reactome.org/biopax/81/170928#Complex155\n",
      "42\t11.019212245941162\thttp://www.reactome.org/biopax/81/170928#Complex158\n",
      "43\t11.157670021057129\thttp://www.reactome.org/biopax/81/170928#Complex176\n",
      "44\t11.32108736038208\thttp://www.reactome.org/biopax/81/170928#Complex178\n",
      "45\t11.468199014663696\thttp://www.reactome.org/biopax/81/170928#Complex182\n",
      "46\t11.618596076965332\thttp://www.reactome.org/biopax/81/170928#Complex193\n",
      "47\t11.743679285049438\thttp://www.reactome.org/biopax/81/170928#Complex235\n",
      "48\t11.903014421463013\thttp://www.reactome.org/biopax/81/170928#Complex236\n",
      "49\t11.996186017990112\thttp://www.reactome.org/biopax/81/170928#Complex238\n",
      "50\t12.184483528137207\thttp://www.reactome.org/biopax/81/170928#Complex240\n",
      "51\t12.406509637832642\thttp://www.reactome.org/biopax/81/170928#Complex241\n",
      "52\t12.645809173583984\thttp://www.reactome.org/biopax/81/170928#Complex242\n",
      "53\t12.801223516464233\thttp://www.reactome.org/biopax/81/170928#Complex243\n",
      "54\t12.958264350891113\thttp://www.reactome.org/biopax/81/170928#Complex245\n",
      "55\t13.139547109603882\thttp://www.reactome.org/biopax/81/170928#Complex247\n",
      "56\t13.331994533538818\thttp://www.reactome.org/biopax/81/170928#Complex249\n",
      "57\t13.50675106048584\thttp://www.reactome.org/biopax/81/170928#Complex252\n",
      "58\t13.683947086334229\thttp://www.reactome.org/biopax/81/170928#Complex254\n",
      "59\t13.855005502700806\thttp://www.reactome.org/biopax/81/170928#Complex255\n",
      "60\t14.05049467086792\thttp://www.reactome.org/biopax/81/170928#Complex257\n",
      "61\t14.299978256225586\thttp://www.reactome.org/biopax/81/170928#Complex259\n",
      "62\t14.48829698562622\thttp://www.reactome.org/biopax/81/170928#Complex262\n",
      "63\t14.68330454826355\thttp://www.reactome.org/biopax/81/170928#Complex264\n",
      "64\t14.870771884918213\thttp://www.reactome.org/biopax/81/170928#Complex265\n",
      "65\t15.050062417984009\thttp://www.reactome.org/biopax/81/170928#Complex266\n",
      "66\t15.233950853347778\thttp://www.reactome.org/biopax/81/170928#Complex271\n",
      "67\t15.427209854125977\thttp://www.reactome.org/biopax/81/170928#Complex273\n",
      "68\t15.65342092514038\thttp://www.reactome.org/biopax/81/170928#Complex275\n",
      "69\t15.818934917449951\thttp://www.reactome.org/biopax/81/170928#Complex277\n",
      "70\t16.316970825195312\thttp://www.reactome.org/biopax/81/170928#Complex278\n",
      "71\t16.659692764282227\thttp://www.reactome.org/biopax/81/170928#Complex290\n",
      "72\t16.793089151382446\thttp://www.reactome.org/biopax/81/170928#Complex279\n",
      "73\t16.89718461036682\thttp://www.reactome.org/biopax/81/170928#Complex284\n",
      "74\t17.07127809524536\thttp://www.reactome.org/biopax/81/170928#Complex281\n",
      "75\t17.14527988433838\thttp://www.reactome.org/biopax/81/170928#Complex285\n",
      "76\t17.261277437210083\thttp://www.reactome.org/biopax/81/170928#Complex292\n",
      "77\t17.368674516677856\thttp://www.reactome.org/biopax/81/170928#Complex295\n",
      "78\t17.479542016983032\thttp://www.reactome.org/biopax/81/170928#Complex296\n",
      "79\t17.541840314865112\thttp://www.reactome.org/biopax/81/170928#Complex307\n",
      "80\t23.936939001083374\thttp://www.reactome.org/biopax/81/170928#Complex311\n",
      "81\t26.337253093719482\thttp://www.reactome.org/biopax/81/170928#Complex312\n",
      "82\t26.458332538604736\thttp://www.reactome.org/biopax/81/170928#Complex313\n",
      "83\t26.62365698814392\thttp://www.reactome.org/biopax/81/170928#Complex314\n",
      "84\t29.464900970458984\thttp://www.reactome.org/biopax/81/170928#Complex316\n",
      "85\t29.58143949508667\thttp://www.reactome.org/biopax/81/170928#Complex317\n",
      "86\t33.25070881843567\thttp://www.reactome.org/biopax/81/170928#Complex318\n",
      "87\t40.38882541656494\thttp://www.reactome.org/biopax/81/170928#Complex320\n",
      "88\t47.09556984901428\thttp://www.reactome.org/biopax/81/170928#Complex322\n",
      "89\t48.709270000457764\thttp://www.reactome.org/biopax/81/170928#Complex323\n",
      "90\t48.818883180618286\thttp://www.reactome.org/biopax/81/170928#Complex325\n",
      "91\t49.07217502593994\thttp://www.reactome.org/biopax/81/170928#Complex327\n",
      "92\t52.81234288215637\thttp://www.reactome.org/biopax/81/170928#Complex328\n",
      "93\t56.67498016357422\thttp://www.reactome.org/biopax/81/170928#Complex329\n",
      "94\t63.312618255615234\thttp://www.reactome.org/biopax/81/170928#Complex331\n",
      "95\t71.133047580719\thttp://www.reactome.org/biopax/81/170928#Complex333\n",
      "96\t71.22287034988403\thttp://www.reactome.org/biopax/81/170928#Complex336\n",
      "97\t71.31174349784851\thttp://www.reactome.org/biopax/81/170928#Complex340\n",
      "98\t71.69343304634094\thttp://www.reactome.org/biopax/81/170928#Complex342\n",
      "99\t71.9911527633667\thttp://www.reactome.org/biopax/81/170928#Complex344\n",
      "100\t72.28959584236145\thttp://www.reactome.org/biopax/81/170928#Complex363\n",
      "101\t74.77425384521484\thttp://www.reactome.org/biopax/81/170928#Complex364\n",
      "102\t77.3456780910492\thttp://www.reactome.org/biopax/81/170928#Complex371\n",
      "103\t79.90491580963135\thttp://www.reactome.org/biopax/81/170928#Complex380\n",
      "104\t79.97720623016357\thttp://www.reactome.org/biopax/81/170928#Complex383\n",
      "105\t80.07763481140137\thttp://www.reactome.org/biopax/81/170928#Complex385\n",
      "106\t80.17582821846008\thttp://www.reactome.org/biopax/81/170928#Complex391\n",
      "107\t80.28254675865173\thttp://www.reactome.org/biopax/81/170928#Complex395\n",
      "108\t80.4173891544342\thttp://www.reactome.org/biopax/81/170928#Complex397\n",
      "109\t80.59844398498535\thttp://www.reactome.org/biopax/81/170928#Complex399\n",
      "110\t80.6974790096283\thttp://www.reactome.org/biopax/81/170928#Complex403\n",
      "111\t80.79251480102539\thttp://www.reactome.org/biopax/81/170928#Complex405\n"
     ]
    },
    {
     "name": "stdout",
     "output_type": "stream",
     "text": [
      "112\t80.94171738624573\thttp://www.reactome.org/biopax/81/170928#Complex406\n",
      "113\t81.09767627716064\thttp://www.reactome.org/biopax/81/170928#Complex407\n",
      "114\t81.27682781219482\thttp://www.reactome.org/biopax/81/170928#Complex411\n",
      "115\t81.31580710411072\thttp://www.reactome.org/biopax/81/170928#Complex412\n",
      "116\t81.3557116985321\thttp://www.reactome.org/biopax/81/170928#Complex414\n",
      "117\t81.39471197128296\thttp://www.reactome.org/biopax/81/170928#Complex416\n",
      "118\t81.43313479423523\thttp://www.reactome.org/biopax/81/170928#Complex438\n",
      "119\t81.84683227539062\thttp://www.reactome.org/biopax/81/170928#Complex445\n",
      "120\t82.2689893245697\thttp://www.reactome.org/biopax/81/170928#Complex439\n",
      "121\t82.56095170974731\thttp://www.reactome.org/biopax/81/170928#Complex446\n",
      "122\t83.00381207466125\thttp://www.reactome.org/biopax/81/170928#Complex447\n",
      "123\t83.41296696662903\thttp://www.reactome.org/biopax/81/170928#Complex448\n",
      "124\t83.87518906593323\thttp://www.reactome.org/biopax/81/170928#Complex449\n",
      "125\t84.40341782569885\thttp://www.reactome.org/biopax/81/170928#Complex453\n",
      "126\t84.99965620040894\thttp://www.reactome.org/biopax/81/170928#Complex450\n",
      "127\t85.5120964050293\thttp://www.reactome.org/biopax/81/170928#Complex451\n",
      "128\t85.65519165992737\thttp://www.reactome.org/biopax/81/170928#Complex454\n",
      "129\t86.12378597259521\thttp://www.reactome.org/biopax/81/170928#Complex455\n",
      "130\t86.60651516914368\thttp://www.reactome.org/biopax/81/170928#Complex457\n",
      "131\t87.41977190971375\thttp://www.reactome.org/biopax/81/170928#Complex458\n",
      "132\t87.96496057510376\thttp://www.reactome.org/biopax/81/170928#Complex459\n",
      "133\t88.44864153862\thttp://www.reactome.org/biopax/81/170928#Complex461\n",
      "134\t88.88820242881775\thttp://www.reactome.org/biopax/81/170928#Complex460\n",
      "135\t89.29319477081299\thttp://www.reactome.org/biopax/81/170928#Complex462\n",
      "136\t89.6857681274414\thttp://www.reactome.org/biopax/81/170928#Complex463\n",
      "137\t90.11748218536377\thttp://www.reactome.org/biopax/81/170928#Complex464\n",
      "138\t90.6349048614502\thttp://www.reactome.org/biopax/81/170928#Complex465\n",
      "139\t90.71876215934753\thttp://www.reactome.org/biopax/81/170928#Complex466\n",
      "140\t91.42801427841187\thttp://www.reactome.org/biopax/81/170928#Complex467\n",
      "141\t92.12359261512756\thttp://www.reactome.org/biopax/81/170928#Complex470\n",
      "142\t93.06030464172363\thttp://www.reactome.org/biopax/81/170928#Complex469\n",
      "143\t93.51435613632202\thttp://www.reactome.org/biopax/81/170928#Complex471\n",
      "144\t93.94847822189331\thttp://www.reactome.org/biopax/81/170928#Complex472\n",
      "145\t94.45418739318848\thttp://www.reactome.org/biopax/81/170928#Complex473\n",
      "146\t94.86792254447937\thttp://www.reactome.org/biopax/81/170928#Complex474\n",
      "147\t95.5542950630188\thttp://www.reactome.org/biopax/81/170928#Complex477\n",
      "148\t96.2579607963562\thttp://www.reactome.org/biopax/81/170928#Complex475\n",
      "149\t96.72374892234802\thttp://www.reactome.org/biopax/81/170928#Complex478\n",
      "150\t97.1591465473175\thttp://www.reactome.org/biopax/81/170928#Complex479\n",
      "151\t97.69442415237427\thttp://www.reactome.org/biopax/81/170928#Complex480\n",
      "152\t98.1016092300415\thttp://www.reactome.org/biopax/81/170928#Complex481\n",
      "153\t98.55273199081421\thttp://www.reactome.org/biopax/81/170928#Complex484\n",
      "154\t99.00806665420532\thttp://www.reactome.org/biopax/81/170928#Complex482\n",
      "155\t99.1217041015625\thttp://www.reactome.org/biopax/81/170928#Complex485\n",
      "156\t99.45203161239624\thttp://www.reactome.org/biopax/81/170928#Complex486\n",
      "157\t99.80569386482239\thttp://www.reactome.org/biopax/81/170928#Complex492\n",
      "158\t100.15868043899536\thttp://www.reactome.org/biopax/81/170928#Complex494\n",
      "159\t100.50490617752075\thttp://www.reactome.org/biopax/81/170928#Complex493\n",
      "160\t100.81103086471558\thttp://www.reactome.org/biopax/81/170928#Complex496\n",
      "161\t101.12333083152771\thttp://www.reactome.org/biopax/81/170928#Complex498\n",
      "162\t102.1276867389679\thttp://www.reactome.org/biopax/81/170928#Complex500\n",
      "163\t103.2837872505188\thttp://www.reactome.org/biopax/81/170928#Complex502\n",
      "164\t103.41270136833191\thttp://www.reactome.org/biopax/81/170928#Complex503\n",
      "165\t103.54002976417542\thttp://www.reactome.org/biopax/81/170928#Complex506\n",
      "166\t103.763423204422\thttp://www.reactome.org/biopax/81/170928#Complex507\n",
      "167\t104.02197742462158\thttp://www.reactome.org/biopax/81/170928#Complex508\n",
      "168\t104.30268454551697\thttp://www.reactome.org/biopax/81/170928#Complex515\n",
      "169\t104.41968727111816\thttp://www.reactome.org/biopax/81/170928#Complex522\n",
      "170\t104.58060264587402\thttp://www.reactome.org/biopax/81/170928#Complex531\n",
      "171\t105.67052483558655\thttp://www.reactome.org/biopax/81/170928#Complex534\n",
      "172\t106.73741817474365\thttp://www.reactome.org/biopax/81/170928#Complex532\n",
      "173\t107.3052282333374\thttp://www.reactome.org/biopax/81/170928#Complex535\n",
      "174\t108.39661741256714\thttp://www.reactome.org/biopax/81/170928#Complex536\n",
      "175\t109.51988935470581\thttp://www.reactome.org/biopax/81/170928#Complex537\n",
      "176\t110.00514340400696\thttp://www.reactome.org/biopax/81/170928#Complex539\n",
      "177\t111.28191065788269\thttp://www.reactome.org/biopax/81/170928#Complex540\n",
      "178\t112.58437275886536\thttp://www.reactome.org/biopax/81/170928#Complex541\n",
      "179\t113.20362615585327\thttp://www.reactome.org/biopax/81/170928#Complex544\n",
      "180\t113.89907193183899\thttp://www.reactome.org/biopax/81/170928#Complex542\n",
      "181\t114.44023942947388\thttp://www.reactome.org/biopax/81/170928#Complex545\n",
      "182\t114.92322850227356\thttp://www.reactome.org/biopax/81/170928#Complex546\n",
      "183\t115.75591611862183\thttp://www.reactome.org/biopax/81/170928#Complex549\n",
      "184\t115.89835691452026\thttp://www.reactome.org/biopax/81/170928#Complex550\n",
      "185\t117.53723526000977\thttp://www.reactome.org/biopax/81/170928#Complex551\n",
      "186\t118.91303896903992\thttp://www.reactome.org/biopax/81/170928#Complex552\n",
      "187\t120.74439740180969\thttp://www.reactome.org/biopax/81/170928#Complex553\n",
      "188\t122.0865125656128\thttp://www.reactome.org/biopax/81/170928#Complex554\n",
      "189\t123.66677641868591\thttp://www.reactome.org/biopax/81/170928#Complex555\n",
      "190\t125.21386384963989\thttp://www.reactome.org/biopax/81/170928#Complex556\n",
      "191\t125.89267086982727\thttp://www.reactome.org/biopax/81/170928#Complex563\n",
      "192\t126.1942229270935\thttp://www.reactome.org/biopax/81/170928#Complex564\n",
      "193\t126.50935482978821\thttp://www.reactome.org/biopax/81/170928#Complex566\n",
      "194\t138.6766369342804\thttp://www.reactome.org/biopax/81/170928#Complex575\n",
      "195\t149.39385437965393\thttp://www.reactome.org/biopax/81/170928#Complex568\n",
      "196\t159.1564929485321\thttp://www.reactome.org/biopax/81/170928#Complex569\n",
      "197\t159.3063268661499\thttp://www.reactome.org/biopax/81/170928#Complex571\n",
      "198\t159.517986536026\thttp://www.reactome.org/biopax/81/170928#Complex572\n",
      "199\t159.63182950019836\thttp://www.reactome.org/biopax/81/170928#Complex576\n",
      "200\t168.421884059906\thttp://www.reactome.org/biopax/81/170928#Complex578\n",
      "201\t176.8888339996338\thttp://www.reactome.org/biopax/81/170928#Complex577\n",
      "202\t177.05299425125122\thttp://www.reactome.org/biopax/81/170928#Complex581\n",
      "203\t177.13800740242004\thttp://www.reactome.org/biopax/81/170928#Complex583\n",
      "204\t177.21341609954834\thttp://www.reactome.org/biopax/81/170928#Complex584\n",
      "205\t177.29931354522705\thttp://www.reactome.org/biopax/81/170928#Complex588\n",
      "206\t177.3781111240387\thttp://www.reactome.org/biopax/81/170928#Complex589\n",
      "207\t177.5902829170227\thttp://www.reactome.org/biopax/81/170928#Complex591\n",
      "208\t177.70785689353943\thttp://www.reactome.org/biopax/81/170928#Complex592\n",
      "209\t177.8582489490509\thttp://www.reactome.org/biopax/81/170928#Complex593\n",
      "210\t177.978257894516\thttp://www.reactome.org/biopax/81/170928#Complex597\n",
      "211\t178.12568855285645\thttp://www.reactome.org/biopax/81/170928#Complex600\n",
      "212\t178.3269100189209\thttp://www.reactome.org/biopax/81/170928#Complex598\n",
      "213\t178.46792602539062\thttp://www.reactome.org/biopax/81/170928#Complex601\n",
      "214\t178.59335899353027\thttp://www.reactome.org/biopax/81/170928#Complex603\n",
      "215\t178.77936697006226\thttp://www.reactome.org/biopax/81/170928#Complex606\n",
      "216\t178.86684131622314\thttp://www.reactome.org/biopax/81/170928#Complex608\n",
      "217\t179.06622767448425\thttp://www.reactome.org/biopax/81/170928#Complex612\n",
      "218\t179.20914006233215\thttp://www.reactome.org/biopax/81/170928#Complex613\n",
      "219\t179.43104338645935\thttp://www.reactome.org/biopax/81/170928#Complex614\n",
      "220\t179.62260460853577\thttp://www.reactome.org/biopax/81/170928#Complex615\n",
      "221\t179.7797498703003\thttp://www.reactome.org/biopax/81/170928#Complex617\n",
      "222\t180.22689270973206\thttp://www.reactome.org/biopax/81/170928#Complex618\n"
     ]
    },
    {
     "name": "stdout",
     "output_type": "stream",
     "text": [
      "223\t180.48873138427734\thttp://www.reactome.org/biopax/81/170928#Complex619\n",
      "224\t180.82485628128052\thttp://www.reactome.org/biopax/81/170928#Complex621\n",
      "225\t181.3983178138733\thttp://www.reactome.org/biopax/81/170928#Complex622\n",
      "226\t181.9769778251648\thttp://www.reactome.org/biopax/81/170928#Complex623\n",
      "227\t182.29494333267212\thttp://www.reactome.org/biopax/81/170928#Complex624\n",
      "228\t182.87436842918396\thttp://www.reactome.org/biopax/81/170928#Complex627\n",
      "229\t183.4817018508911\thttp://www.reactome.org/biopax/81/170928#Complex625\n",
      "230\t183.98400497436523\thttp://www.reactome.org/biopax/81/170928#Complex628\n",
      "231\t184.6261751651764\thttp://www.reactome.org/biopax/81/170928#Complex629\n",
      "232\t185.17056679725647\thttp://www.reactome.org/biopax/81/170928#Complex652\n",
      "233\t185.25418639183044\thttp://www.reactome.org/biopax/81/170928#Complex654\n",
      "234\t185.3334743976593\thttp://www.reactome.org/biopax/81/170928#Complex708\n",
      "235\t185.4530065059662\thttp://www.reactome.org/biopax/81/170928#Complex712\n",
      "236\t185.52786993980408\thttp://www.reactome.org/biopax/81/170928#Complex714\n",
      "237\t185.63884091377258\thttp://www.reactome.org/biopax/81/170928#Complex720\n",
      "238\t185.86192870140076\thttp://www.reactome.org/biopax/81/170928#Complex721\n",
      "239\t186.11240220069885\thttp://www.reactome.org/biopax/81/170928#Complex728\n",
      "240\t186.31935954093933\thttp://www.reactome.org/biopax/81/170928#Complex729\n",
      "241\t186.38587379455566\thttp://www.reactome.org/biopax/81/170928#Complex732\n",
      "242\t186.45055294036865\thttp://www.reactome.org/biopax/81/170928#Complex736\n",
      "243\t186.51887345314026\thttp://www.reactome.org/biopax/81/170928#Complex738\n",
      "244\t186.59219908714294\thttp://www.reactome.org/biopax/81/170928#Complex740\n",
      "245\t186.66909313201904\thttp://www.reactome.org/biopax/81/170928#Complex744\n",
      "246\t186.76233744621277\thttp://www.reactome.org/biopax/81/170928#Complex747\n",
      "247\t186.88302612304688\thttp://www.reactome.org/biopax/81/170928#Complex750\n",
      "248\t186.98305010795593\thttp://www.reactome.org/biopax/81/170928#Complex771\n",
      "249\t187.0504252910614\thttp://www.reactome.org/biopax/81/170928#Complex799\n",
      "250\t187.14601850509644\thttp://www.reactome.org/biopax/81/170928#Complex807\n",
      "251\t187.3427312374115\thttp://www.reactome.org/biopax/81/170928#Complex812\n",
      "252\t187.4592161178589\thttp://www.reactome.org/biopax/81/170928#Complex814\n",
      "253\t187.56124758720398\thttp://www.reactome.org/biopax/81/170928#Complex822\n",
      "254\t187.78691744804382\thttp://www.reactome.org/biopax/81/170928#Complex824\n",
      "255\t187.98703479766846\thttp://www.reactome.org/biopax/81/170928#Complex839\n",
      "256\t188.14103293418884\thttp://www.reactome.org/biopax/81/170928#Complex840\n",
      "257\t188.28063821792603\thttp://www.reactome.org/biopax/81/170928#Complex845\n",
      "258\t188.4279544353485\thttp://www.reactome.org/biopax/81/170928#Complex857\n",
      "259\t188.60166144371033\thttp://www.reactome.org/biopax/81/170928#Complex860\n",
      "260\t188.7480754852295\thttp://www.reactome.org/biopax/81/170928#Complex858\n",
      "261\t188.87000489234924\thttp://www.reactome.org/biopax/81/170928#Complex871\n",
      "262\t188.96539330482483\thttp://www.reactome.org/biopax/81/170928#Complex872\n",
      "263\t189.08150625228882\thttp://www.reactome.org/biopax/81/170928#Complex874\n",
      "Duration: 189.23038268089294\n"
     ]
    }
   ],
   "source": [
    "startTime = time.time()\n",
    "fixInvalidComplexes()\n",
    "endTime = time.time()\n",
    "print(\"Duration: {}\".format(endTime - startTime))"
   ]
  },
  {
   "cell_type": "code",
   "execution_count": 28,
   "id": "c1ede1ce",
   "metadata": {},
   "outputs": [],
   "source": [
    "# concat files\n",
    "# %%bash\n",
    "# ${JENA_HOME}/bat/riot --time --output=Turtle result/reactome-v79-Complex*.ttl > reactome-v79-complexes-invalid-fixed.ttl"
   ]
  },
  {
   "cell_type": "code",
   "execution_count": 29,
   "id": "2b5128d8",
   "metadata": {},
   "outputs": [],
   "source": [
    "# ..\\..\\Downloads\\apache-jena-4.2.0\\bat\\riot.bat  --time --output=Turtle ./results/reactome-v81-48887-Complex*.ttl > ./results/reactome-v81-48887-complexes-invalid-fixed.ttl"
   ]
  },
  {
   "cell_type": "code",
   "execution_count": 30,
   "id": "1c041566",
   "metadata": {},
   "outputs": [
    {
     "name": "stdout",
     "output_type": "stream",
     "text": [
      "Duration: 69.06852293014526\n"
     ]
    }
   ],
   "source": [
    "startTime = time.time()\n",
    "exportValidComplexes()\n",
    "endTime = time.time()\n",
    "print(\"Duration: {}\".format(endTime - startTime))"
   ]
  },
  {
   "cell_type": "code",
   "execution_count": 31,
   "id": "d9d1b03d",
   "metadata": {},
   "outputs": [
    {
     "name": "stdout",
     "output_type": "stream",
     "text": [
      "Calling: http://localhost:3030/REACTOME_PFALCIPARUM/update\n",
      "Duration: 31.024653673171997\n"
     ]
    }
   ],
   "source": [
    "startTime = time.time()\n",
    "deleteAllComplexes()\n",
    "endTime = time.time()\n",
    "print(\"Duration: {}\".format(endTime - startTime))"
   ]
  },
  {
   "cell_type": "markdown",
   "id": "5b4934f3",
   "metadata": {},
   "source": [
    "### (Merge files before identify and quantify redundant complexes)"
   ]
  }
 ],
 "metadata": {
  "kernelspec": {
   "display_name": "Python 3",
   "language": "python",
   "name": "python3"
  },
  "language_info": {
   "codemirror_mode": {
    "name": "ipython",
    "version": 3
   },
   "file_extension": ".py",
   "mimetype": "text/x-python",
   "name": "python",
   "nbconvert_exporter": "python",
   "pygments_lexer": "ipython3",
   "version": "3.8.8"
  }
 },
 "nbformat": 4,
 "nbformat_minor": 5
}
